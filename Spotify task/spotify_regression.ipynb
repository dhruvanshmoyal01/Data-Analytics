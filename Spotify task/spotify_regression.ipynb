{
 "cells": [
  {
   "cell_type": "code",
   "execution_count": 1,
   "id": "84b846bf",
   "metadata": {},
   "outputs": [],
   "source": [
    "import numpy as np\n",
    "import pandas as pd\n",
    "from matplotlib import pyplot as plt\n",
    "import matplotlib as mpl\n",
    "import seaborn as sns\n",
    "from sklearn import preprocessing\n",
    "from sklearn.preprocessing import LabelEncoder, MinMaxScaler\n",
    "from sklearn.model_selection import train_test_split, GridSearchCV\n",
    "from sklearn import metrics\n",
    "from sklearn.metrics import confusion_matrix, homogeneity_score, completeness_score, plot_confusion_matrix\n",
    "from sklearn import linear_model, svm\n",
    "from sklearn.metrics import r2_score"
   ]
  },
  {
   "cell_type": "code",
   "execution_count": 2,
   "id": "159604b2",
   "metadata": {},
   "outputs": [
    {
     "data": {
      "text/html": [
       "<div>\n",
       "<style scoped>\n",
       "    .dataframe tbody tr th:only-of-type {\n",
       "        vertical-align: middle;\n",
       "    }\n",
       "\n",
       "    .dataframe tbody tr th {\n",
       "        vertical-align: top;\n",
       "    }\n",
       "\n",
       "    .dataframe thead th {\n",
       "        text-align: right;\n",
       "    }\n",
       "</style>\n",
       "<table border=\"1\" class=\"dataframe\">\n",
       "  <thead>\n",
       "    <tr style=\"text-align: right;\">\n",
       "      <th></th>\n",
       "      <th>Id</th>\n",
       "      <th>title</th>\n",
       "      <th>artist</th>\n",
       "      <th>top genre</th>\n",
       "      <th>year</th>\n",
       "      <th>bpm</th>\n",
       "      <th>nrgy</th>\n",
       "      <th>dnce</th>\n",
       "      <th>dB</th>\n",
       "      <th>live</th>\n",
       "      <th>val</th>\n",
       "      <th>dur</th>\n",
       "      <th>acous</th>\n",
       "      <th>spch</th>\n",
       "      <th>pop</th>\n",
       "    </tr>\n",
       "  </thead>\n",
       "  <tbody>\n",
       "    <tr>\n",
       "      <th>0</th>\n",
       "      <td>1</td>\n",
       "      <td>My Happiness</td>\n",
       "      <td>Connie Francis</td>\n",
       "      <td>adult standards</td>\n",
       "      <td>1996</td>\n",
       "      <td>107</td>\n",
       "      <td>31</td>\n",
       "      <td>45</td>\n",
       "      <td>-8</td>\n",
       "      <td>13</td>\n",
       "      <td>28</td>\n",
       "      <td>150</td>\n",
       "      <td>75</td>\n",
       "      <td>3</td>\n",
       "      <td>44</td>\n",
       "    </tr>\n",
       "    <tr>\n",
       "      <th>1</th>\n",
       "      <td>2</td>\n",
       "      <td>Unchained Melody</td>\n",
       "      <td>The Teddy Bears</td>\n",
       "      <td>NaN</td>\n",
       "      <td>2011</td>\n",
       "      <td>114</td>\n",
       "      <td>44</td>\n",
       "      <td>53</td>\n",
       "      <td>-8</td>\n",
       "      <td>13</td>\n",
       "      <td>47</td>\n",
       "      <td>139</td>\n",
       "      <td>49</td>\n",
       "      <td>3</td>\n",
       "      <td>37</td>\n",
       "    </tr>\n",
       "    <tr>\n",
       "      <th>2</th>\n",
       "      <td>3</td>\n",
       "      <td>How Deep Is Your Love</td>\n",
       "      <td>Bee Gees</td>\n",
       "      <td>adult standards</td>\n",
       "      <td>1979</td>\n",
       "      <td>105</td>\n",
       "      <td>36</td>\n",
       "      <td>63</td>\n",
       "      <td>-9</td>\n",
       "      <td>13</td>\n",
       "      <td>67</td>\n",
       "      <td>245</td>\n",
       "      <td>11</td>\n",
       "      <td>3</td>\n",
       "      <td>77</td>\n",
       "    </tr>\n",
       "    <tr>\n",
       "      <th>3</th>\n",
       "      <td>4</td>\n",
       "      <td>Woman in Love</td>\n",
       "      <td>Barbra Streisand</td>\n",
       "      <td>adult standards</td>\n",
       "      <td>1980</td>\n",
       "      <td>170</td>\n",
       "      <td>28</td>\n",
       "      <td>47</td>\n",
       "      <td>-16</td>\n",
       "      <td>13</td>\n",
       "      <td>33</td>\n",
       "      <td>232</td>\n",
       "      <td>25</td>\n",
       "      <td>3</td>\n",
       "      <td>67</td>\n",
       "    </tr>\n",
       "    <tr>\n",
       "      <th>4</th>\n",
       "      <td>5</td>\n",
       "      <td>Goodbye Yellow Brick Road - Remastered 2014</td>\n",
       "      <td>Elton John</td>\n",
       "      <td>glam rock</td>\n",
       "      <td>1973</td>\n",
       "      <td>121</td>\n",
       "      <td>47</td>\n",
       "      <td>56</td>\n",
       "      <td>-8</td>\n",
       "      <td>15</td>\n",
       "      <td>40</td>\n",
       "      <td>193</td>\n",
       "      <td>45</td>\n",
       "      <td>3</td>\n",
       "      <td>63</td>\n",
       "    </tr>\n",
       "  </tbody>\n",
       "</table>\n",
       "</div>"
      ],
      "text/plain": [
       "   Id                                        title            artist  \\\n",
       "0   1                                 My Happiness    Connie Francis   \n",
       "1   2                             Unchained Melody   The Teddy Bears   \n",
       "2   3                        How Deep Is Your Love          Bee Gees   \n",
       "3   4                                Woman in Love  Barbra Streisand   \n",
       "4   5  Goodbye Yellow Brick Road - Remastered 2014        Elton John   \n",
       "\n",
       "         top genre  year  bpm  nrgy  dnce  dB  live  val  dur  acous  spch  \\\n",
       "0  adult standards  1996  107    31    45  -8    13   28  150     75     3   \n",
       "1              NaN  2011  114    44    53  -8    13   47  139     49     3   \n",
       "2  adult standards  1979  105    36    63  -9    13   67  245     11     3   \n",
       "3  adult standards  1980  170    28    47 -16    13   33  232     25     3   \n",
       "4        glam rock  1973  121    47    56  -8    15   40  193     45     3   \n",
       "\n",
       "   pop  \n",
       "0   44  \n",
       "1   37  \n",
       "2   77  \n",
       "3   67  \n",
       "4   63  "
      ]
     },
     "execution_count": 2,
     "metadata": {},
     "output_type": "execute_result"
    }
   ],
   "source": [
    "train_data = pd.read_csv('CS98XRegressionTrain.csv')\n",
    "train_data.head()"
   ]
  },
  {
   "cell_type": "code",
   "execution_count": 3,
   "id": "9b736c67",
   "metadata": {},
   "outputs": [
    {
     "name": "stdout",
     "output_type": "stream",
     "text": [
      "Our dataset has 453 rows and 15 columns\n"
     ]
    }
   ],
   "source": [
    "rows, columns = train_data.shape\n",
    "print('Our dataset has {} rows and {} columns'.format(rows, columns))"
   ]
  },
  {
   "cell_type": "code",
   "execution_count": 4,
   "id": "3d9ce314",
   "metadata": {},
   "outputs": [
    {
     "name": "stdout",
     "output_type": "stream",
     "text": [
      "<class 'pandas.core.frame.DataFrame'>\n",
      "RangeIndex: 453 entries, 0 to 452\n",
      "Data columns (total 15 columns):\n",
      " #   Column     Non-Null Count  Dtype \n",
      "---  ------     --------------  ----- \n",
      " 0   Id         453 non-null    int64 \n",
      " 1   title      453 non-null    object\n",
      " 2   artist     453 non-null    object\n",
      " 3   top genre  438 non-null    object\n",
      " 4   year       453 non-null    int64 \n",
      " 5   bpm        453 non-null    int64 \n",
      " 6   nrgy       453 non-null    int64 \n",
      " 7   dnce       453 non-null    int64 \n",
      " 8   dB         453 non-null    int64 \n",
      " 9   live       453 non-null    int64 \n",
      " 10  val        453 non-null    int64 \n",
      " 11  dur        453 non-null    int64 \n",
      " 12  acous      453 non-null    int64 \n",
      " 13  spch       453 non-null    int64 \n",
      " 14  pop        453 non-null    int64 \n",
      "dtypes: int64(12), object(3)\n",
      "memory usage: 53.2+ KB\n"
     ]
    }
   ],
   "source": [
    "train_data.info()"
   ]
  },
  {
   "cell_type": "code",
   "execution_count": 5,
   "id": "44c77229",
   "metadata": {},
   "outputs": [
    {
     "data": {
      "text/html": [
       "<div>\n",
       "<style scoped>\n",
       "    .dataframe tbody tr th:only-of-type {\n",
       "        vertical-align: middle;\n",
       "    }\n",
       "\n",
       "    .dataframe tbody tr th {\n",
       "        vertical-align: top;\n",
       "    }\n",
       "\n",
       "    .dataframe thead th {\n",
       "        text-align: right;\n",
       "    }\n",
       "</style>\n",
       "<table border=\"1\" class=\"dataframe\">\n",
       "  <thead>\n",
       "    <tr style=\"text-align: right;\">\n",
       "      <th></th>\n",
       "      <th>Id</th>\n",
       "      <th>year</th>\n",
       "      <th>bpm</th>\n",
       "      <th>nrgy</th>\n",
       "      <th>dnce</th>\n",
       "      <th>dB</th>\n",
       "      <th>live</th>\n",
       "      <th>val</th>\n",
       "      <th>dur</th>\n",
       "      <th>acous</th>\n",
       "      <th>spch</th>\n",
       "      <th>pop</th>\n",
       "    </tr>\n",
       "  </thead>\n",
       "  <tbody>\n",
       "    <tr>\n",
       "      <th>count</th>\n",
       "      <td>453.000000</td>\n",
       "      <td>453.000000</td>\n",
       "      <td>453.000000</td>\n",
       "      <td>453.000000</td>\n",
       "      <td>453.000000</td>\n",
       "      <td>453.000000</td>\n",
       "      <td>453.000000</td>\n",
       "      <td>453.000000</td>\n",
       "      <td>453.000000</td>\n",
       "      <td>453.000000</td>\n",
       "      <td>453.000000</td>\n",
       "      <td>453.000000</td>\n",
       "    </tr>\n",
       "    <tr>\n",
       "      <th>mean</th>\n",
       "      <td>227.000000</td>\n",
       "      <td>1991.443709</td>\n",
       "      <td>118.399558</td>\n",
       "      <td>60.070640</td>\n",
       "      <td>59.565121</td>\n",
       "      <td>-8.836645</td>\n",
       "      <td>17.757174</td>\n",
       "      <td>59.465784</td>\n",
       "      <td>226.278146</td>\n",
       "      <td>32.982340</td>\n",
       "      <td>5.660044</td>\n",
       "      <td>60.743929</td>\n",
       "    </tr>\n",
       "    <tr>\n",
       "      <th>std</th>\n",
       "      <td>130.914094</td>\n",
       "      <td>16.776103</td>\n",
       "      <td>25.238713</td>\n",
       "      <td>22.205284</td>\n",
       "      <td>15.484458</td>\n",
       "      <td>3.577187</td>\n",
       "      <td>13.830300</td>\n",
       "      <td>24.539868</td>\n",
       "      <td>63.770380</td>\n",
       "      <td>29.530015</td>\n",
       "      <td>5.550581</td>\n",
       "      <td>13.470083</td>\n",
       "    </tr>\n",
       "    <tr>\n",
       "      <th>min</th>\n",
       "      <td>1.000000</td>\n",
       "      <td>1948.000000</td>\n",
       "      <td>62.000000</td>\n",
       "      <td>7.000000</td>\n",
       "      <td>18.000000</td>\n",
       "      <td>-24.000000</td>\n",
       "      <td>2.000000</td>\n",
       "      <td>6.000000</td>\n",
       "      <td>98.000000</td>\n",
       "      <td>0.000000</td>\n",
       "      <td>2.000000</td>\n",
       "      <td>26.000000</td>\n",
       "    </tr>\n",
       "    <tr>\n",
       "      <th>25%</th>\n",
       "      <td>114.000000</td>\n",
       "      <td>1976.000000</td>\n",
       "      <td>100.000000</td>\n",
       "      <td>43.000000</td>\n",
       "      <td>49.000000</td>\n",
       "      <td>-11.000000</td>\n",
       "      <td>9.000000</td>\n",
       "      <td>42.000000</td>\n",
       "      <td>181.000000</td>\n",
       "      <td>7.000000</td>\n",
       "      <td>3.000000</td>\n",
       "      <td>53.000000</td>\n",
       "    </tr>\n",
       "    <tr>\n",
       "      <th>50%</th>\n",
       "      <td>227.000000</td>\n",
       "      <td>1994.000000</td>\n",
       "      <td>119.000000</td>\n",
       "      <td>63.000000</td>\n",
       "      <td>61.000000</td>\n",
       "      <td>-8.000000</td>\n",
       "      <td>13.000000</td>\n",
       "      <td>61.000000</td>\n",
       "      <td>223.000000</td>\n",
       "      <td>24.000000</td>\n",
       "      <td>4.000000</td>\n",
       "      <td>63.000000</td>\n",
       "    </tr>\n",
       "    <tr>\n",
       "      <th>75%</th>\n",
       "      <td>340.000000</td>\n",
       "      <td>2007.000000</td>\n",
       "      <td>133.000000</td>\n",
       "      <td>78.000000</td>\n",
       "      <td>70.000000</td>\n",
       "      <td>-6.000000</td>\n",
       "      <td>23.000000</td>\n",
       "      <td>80.000000</td>\n",
       "      <td>262.000000</td>\n",
       "      <td>58.000000</td>\n",
       "      <td>6.000000</td>\n",
       "      <td>71.000000</td>\n",
       "    </tr>\n",
       "    <tr>\n",
       "      <th>max</th>\n",
       "      <td>453.000000</td>\n",
       "      <td>2019.000000</td>\n",
       "      <td>199.000000</td>\n",
       "      <td>100.000000</td>\n",
       "      <td>96.000000</td>\n",
       "      <td>-1.000000</td>\n",
       "      <td>93.000000</td>\n",
       "      <td>99.000000</td>\n",
       "      <td>511.000000</td>\n",
       "      <td>100.000000</td>\n",
       "      <td>47.000000</td>\n",
       "      <td>84.000000</td>\n",
       "    </tr>\n",
       "  </tbody>\n",
       "</table>\n",
       "</div>"
      ],
      "text/plain": [
       "               Id         year         bpm        nrgy        dnce  \\\n",
       "count  453.000000   453.000000  453.000000  453.000000  453.000000   \n",
       "mean   227.000000  1991.443709  118.399558   60.070640   59.565121   \n",
       "std    130.914094    16.776103   25.238713   22.205284   15.484458   \n",
       "min      1.000000  1948.000000   62.000000    7.000000   18.000000   \n",
       "25%    114.000000  1976.000000  100.000000   43.000000   49.000000   \n",
       "50%    227.000000  1994.000000  119.000000   63.000000   61.000000   \n",
       "75%    340.000000  2007.000000  133.000000   78.000000   70.000000   \n",
       "max    453.000000  2019.000000  199.000000  100.000000   96.000000   \n",
       "\n",
       "               dB        live         val         dur       acous        spch  \\\n",
       "count  453.000000  453.000000  453.000000  453.000000  453.000000  453.000000   \n",
       "mean    -8.836645   17.757174   59.465784  226.278146   32.982340    5.660044   \n",
       "std      3.577187   13.830300   24.539868   63.770380   29.530015    5.550581   \n",
       "min    -24.000000    2.000000    6.000000   98.000000    0.000000    2.000000   \n",
       "25%    -11.000000    9.000000   42.000000  181.000000    7.000000    3.000000   \n",
       "50%     -8.000000   13.000000   61.000000  223.000000   24.000000    4.000000   \n",
       "75%     -6.000000   23.000000   80.000000  262.000000   58.000000    6.000000   \n",
       "max     -1.000000   93.000000   99.000000  511.000000  100.000000   47.000000   \n",
       "\n",
       "              pop  \n",
       "count  453.000000  \n",
       "mean    60.743929  \n",
       "std     13.470083  \n",
       "min     26.000000  \n",
       "25%     53.000000  \n",
       "50%     63.000000  \n",
       "75%     71.000000  \n",
       "max     84.000000  "
      ]
     },
     "execution_count": 5,
     "metadata": {},
     "output_type": "execute_result"
    }
   ],
   "source": [
    "train_data.describe()"
   ]
  },
  {
   "cell_type": "code",
   "execution_count": 6,
   "id": "2b25e85d",
   "metadata": {},
   "outputs": [
    {
     "name": "stdout",
     "output_type": "stream",
     "text": [
      "Checking if we have any null values in our dataset -\n"
     ]
    },
    {
     "data": {
      "text/plain": [
       "Id           False\n",
       "title        False\n",
       "artist       False\n",
       "top genre     True\n",
       "year         False\n",
       "bpm          False\n",
       "nrgy         False\n",
       "dnce         False\n",
       "dB           False\n",
       "live         False\n",
       "val          False\n",
       "dur          False\n",
       "acous        False\n",
       "spch         False\n",
       "pop          False\n",
       "dtype: bool"
      ]
     },
     "execution_count": 6,
     "metadata": {},
     "output_type": "execute_result"
    }
   ],
   "source": [
    "print('Checking if we have any null values in our dataset -')\n",
    "train_data[:].isna().any()"
   ]
  },
  {
   "cell_type": "code",
   "execution_count": 7,
   "id": "545bab4b",
   "metadata": {},
   "outputs": [
    {
     "data": {
      "text/plain": [
       "Id            0\n",
       "title         0\n",
       "artist        0\n",
       "top genre    15\n",
       "year          0\n",
       "bpm           0\n",
       "nrgy          0\n",
       "dnce          0\n",
       "dB            0\n",
       "live          0\n",
       "val           0\n",
       "dur           0\n",
       "acous         0\n",
       "spch          0\n",
       "pop           0\n",
       "dtype: int64"
      ]
     },
     "execution_count": 7,
     "metadata": {},
     "output_type": "execute_result"
    }
   ],
   "source": [
    "train_data.isnull().sum()"
   ]
  },
  {
   "cell_type": "code",
   "execution_count": 8,
   "id": "e47e3888",
   "metadata": {},
   "outputs": [],
   "source": [
    "train_data = train_data.dropna() "
   ]
  },
  {
   "cell_type": "code",
   "execution_count": 9,
   "id": "ed02c2b7",
   "metadata": {},
   "outputs": [
    {
     "data": {
      "text/plain": [
       "86"
      ]
     },
     "execution_count": 9,
     "metadata": {},
     "output_type": "execute_result"
    }
   ],
   "source": [
    "uniqueValues = (train_data['top genre']).unique()\n",
    "len(uniqueValues)"
   ]
  },
  {
   "cell_type": "code",
   "execution_count": 10,
   "id": "c11e32fc",
   "metadata": {},
   "outputs": [
    {
     "data": {
      "text/plain": [
       "61.55707762557078"
      ]
     },
     "execution_count": 10,
     "metadata": {},
     "output_type": "execute_result"
    }
   ],
   "source": [
    "sum(train_data['pop'])/len(train_data['pop'])"
   ]
  },
  {
   "cell_type": "code",
   "execution_count": 11,
   "id": "8f984653",
   "metadata": {},
   "outputs": [
    {
     "name": "stdout",
     "output_type": "stream",
     "text": [
      "top genre :  ['adult standards' 'glam rock' 'pop' 'album rock' 'boy band'\n",
      " 'brill building pop' 'rock-and-roll' 'country rock' 'canadian pop'\n",
      " 'dance pop' 'europop' 'bebop' 'art rock' 'disco' 'blues' 'barbadian pop'\n",
      " 'deep adult standards' 'deep house' 'atl hip hop' 'dance rock'\n",
      " 'disco house' 'bubblegum dance' 'classic soul' 'classic uk pop'\n",
      " 'east coast hip hop' 'doo-wop' 'britpop' 'british blues' 'soft rock'\n",
      " 'australian talent show' 'art pop' 'british soul' 'british invasion'\n",
      " 'belgian pop' 'big room' 'german dance' 'italian pop' 'british folk'\n",
      " 'brit funk' 'chicago soul' 'neo mellow' 'british comedy' 'hip hop'\n",
      " 'new wave pop' 'eurodance' 'detroit hip hop' 'classic rock' 'uk garage'\n",
      " 'afrobeat' 'r&b' 'chicago rap' 'classic danish pop' 'british dance band'\n",
      " 'drone folk' 'permanent wave' 'merseybeat' 'g funk' 'blues rock'\n",
      " 'celtic rock' 'bow pop' 'australian rock' 'boogaloo' 'alternative metal'\n",
      " 'belgian dance' 'glam metal' 'latin' 'baroque pop' 'bubble trance'\n",
      " 'canadian folk' 'american folk revival' 'country' 'chanson'\n",
      " 'bubblegum pop' 'classic girl group' 'yodeling' 'afropop' 'hi-nrg'\n",
      " 'louisiana blues' 'hip pop' 'mellow gold' 'avant-garde jazz'\n",
      " 'bronx hip hop' 'glam punk' 'german alternative rock' 'acoustic blues'\n",
      " 'alternative rock'] \n",
      "\n"
     ]
    }
   ],
   "source": [
    "textual_data = ['top genre']\n",
    "\n",
    "for col in textual_data:\n",
    "    print(col, \": \", train_data[col].unique(), \"\\n\")"
   ]
  },
  {
   "cell_type": "code",
   "execution_count": 12,
   "id": "85cc08e8",
   "metadata": {},
   "outputs": [
    {
     "data": {
      "text/plain": [
       "adult standards       68\n",
       "album rock            66\n",
       "dance pop             61\n",
       "brill building pop    16\n",
       "glam rock             16\n",
       "                      ..\n",
       "bow pop                1\n",
       "australian rock        1\n",
       "boogaloo               1\n",
       "british comedy         1\n",
       "alternative rock       1\n",
       "Name: top genre, Length: 86, dtype: int64"
      ]
     },
     "execution_count": 12,
     "metadata": {},
     "output_type": "execute_result"
    }
   ],
   "source": [
    "train_data['top genre'].value_counts()"
   ]
  },
  {
   "cell_type": "code",
   "execution_count": 13,
   "id": "77234a11",
   "metadata": {},
   "outputs": [
    {
     "data": {
      "text/plain": [
       "Elton John     9\n",
       "Queen          7\n",
       "ABBA           7\n",
       "The Beatles    6\n",
       "Rihanna        5\n",
       "              ..\n",
       "Paul Young     1\n",
       "Keri Hilson    1\n",
       "Four Tops      1\n",
       "La Bouche      1\n",
       "*NSYNC         1\n",
       "Name: artist, Length: 331, dtype: int64"
      ]
     },
     "execution_count": 13,
     "metadata": {},
     "output_type": "execute_result"
    }
   ],
   "source": [
    "train_data['artist'].value_counts()"
   ]
  },
  {
   "cell_type": "code",
   "execution_count": 14,
   "id": "662e1c81",
   "metadata": {},
   "outputs": [
    {
     "data": {
      "text/html": [
       "<div>\n",
       "<style scoped>\n",
       "    .dataframe tbody tr th:only-of-type {\n",
       "        vertical-align: middle;\n",
       "    }\n",
       "\n",
       "    .dataframe tbody tr th {\n",
       "        vertical-align: top;\n",
       "    }\n",
       "\n",
       "    .dataframe thead th {\n",
       "        text-align: right;\n",
       "    }\n",
       "</style>\n",
       "<table border=\"1\" class=\"dataframe\">\n",
       "  <thead>\n",
       "    <tr style=\"text-align: right;\">\n",
       "      <th></th>\n",
       "      <th>Id</th>\n",
       "      <th>title</th>\n",
       "      <th>artist</th>\n",
       "      <th>top genre</th>\n",
       "      <th>year</th>\n",
       "      <th>bpm</th>\n",
       "      <th>nrgy</th>\n",
       "      <th>dnce</th>\n",
       "      <th>dB</th>\n",
       "      <th>live</th>\n",
       "      <th>val</th>\n",
       "      <th>dur</th>\n",
       "      <th>acous</th>\n",
       "      <th>spch</th>\n",
       "      <th>pop</th>\n",
       "    </tr>\n",
       "  </thead>\n",
       "  <tbody>\n",
       "    <tr>\n",
       "      <th>0</th>\n",
       "      <td>1</td>\n",
       "      <td>My Happiness</td>\n",
       "      <td>Connie Francis</td>\n",
       "      <td>1</td>\n",
       "      <td>1996</td>\n",
       "      <td>107</td>\n",
       "      <td>31</td>\n",
       "      <td>45</td>\n",
       "      <td>-8</td>\n",
       "      <td>13</td>\n",
       "      <td>28</td>\n",
       "      <td>150</td>\n",
       "      <td>75</td>\n",
       "      <td>3</td>\n",
       "      <td>44</td>\n",
       "    </tr>\n",
       "    <tr>\n",
       "      <th>2</th>\n",
       "      <td>3</td>\n",
       "      <td>How Deep Is Your Love</td>\n",
       "      <td>Bee Gees</td>\n",
       "      <td>1</td>\n",
       "      <td>1979</td>\n",
       "      <td>105</td>\n",
       "      <td>36</td>\n",
       "      <td>63</td>\n",
       "      <td>-9</td>\n",
       "      <td>13</td>\n",
       "      <td>67</td>\n",
       "      <td>245</td>\n",
       "      <td>11</td>\n",
       "      <td>3</td>\n",
       "      <td>77</td>\n",
       "    </tr>\n",
       "    <tr>\n",
       "      <th>3</th>\n",
       "      <td>4</td>\n",
       "      <td>Woman in Love</td>\n",
       "      <td>Barbra Streisand</td>\n",
       "      <td>1</td>\n",
       "      <td>1980</td>\n",
       "      <td>170</td>\n",
       "      <td>28</td>\n",
       "      <td>47</td>\n",
       "      <td>-16</td>\n",
       "      <td>13</td>\n",
       "      <td>33</td>\n",
       "      <td>232</td>\n",
       "      <td>25</td>\n",
       "      <td>3</td>\n",
       "      <td>67</td>\n",
       "    </tr>\n",
       "    <tr>\n",
       "      <th>4</th>\n",
       "      <td>5</td>\n",
       "      <td>Goodbye Yellow Brick Road - Remastered 2014</td>\n",
       "      <td>Elton John</td>\n",
       "      <td>68</td>\n",
       "      <td>1973</td>\n",
       "      <td>121</td>\n",
       "      <td>47</td>\n",
       "      <td>56</td>\n",
       "      <td>-8</td>\n",
       "      <td>15</td>\n",
       "      <td>40</td>\n",
       "      <td>193</td>\n",
       "      <td>45</td>\n",
       "      <td>3</td>\n",
       "      <td>63</td>\n",
       "    </tr>\n",
       "    <tr>\n",
       "      <th>5</th>\n",
       "      <td>6</td>\n",
       "      <td>Grenade</td>\n",
       "      <td>Bruno Mars</td>\n",
       "      <td>80</td>\n",
       "      <td>2010</td>\n",
       "      <td>110</td>\n",
       "      <td>56</td>\n",
       "      <td>71</td>\n",
       "      <td>-7</td>\n",
       "      <td>12</td>\n",
       "      <td>23</td>\n",
       "      <td>223</td>\n",
       "      <td>15</td>\n",
       "      <td>6</td>\n",
       "      <td>74</td>\n",
       "    </tr>\n",
       "  </tbody>\n",
       "</table>\n",
       "</div>"
      ],
      "text/plain": [
       "   Id                                        title            artist  \\\n",
       "0   1                                 My Happiness    Connie Francis   \n",
       "2   3                        How Deep Is Your Love          Bee Gees   \n",
       "3   4                                Woman in Love  Barbra Streisand   \n",
       "4   5  Goodbye Yellow Brick Road - Remastered 2014        Elton John   \n",
       "5   6                                      Grenade        Bruno Mars   \n",
       "\n",
       "   top genre  year  bpm  nrgy  dnce  dB  live  val  dur  acous  spch  pop  \n",
       "0          1  1996  107    31    45  -8    13   28  150     75     3   44  \n",
       "2          1  1979  105    36    63  -9    13   67  245     11     3   77  \n",
       "3          1  1980  170    28    47 -16    13   33  232     25     3   67  \n",
       "4         68  1973  121    47    56  -8    15   40  193     45     3   63  \n",
       "5         80  2010  110    56    71  -7    12   23  223     15     6   74  "
      ]
     },
     "execution_count": 14,
     "metadata": {},
     "output_type": "execute_result"
    }
   ],
   "source": [
    "encoder = LabelEncoder()\n",
    "for col in textual_data:\n",
    "    train_data[col] = encoder.fit_transform(train_data[col])\n",
    "train_data.head()"
   ]
  },
  {
   "cell_type": "code",
   "execution_count": 15,
   "id": "f8443e71",
   "metadata": {
    "scrolled": false
   },
   "outputs": [
    {
     "data": {
      "text/html": [
       "<div>\n",
       "<style scoped>\n",
       "    .dataframe tbody tr th:only-of-type {\n",
       "        vertical-align: middle;\n",
       "    }\n",
       "\n",
       "    .dataframe tbody tr th {\n",
       "        vertical-align: top;\n",
       "    }\n",
       "\n",
       "    .dataframe thead th {\n",
       "        text-align: right;\n",
       "    }\n",
       "</style>\n",
       "<table border=\"1\" class=\"dataframe\">\n",
       "  <thead>\n",
       "    <tr style=\"text-align: right;\">\n",
       "      <th></th>\n",
       "      <th>top genre</th>\n",
       "      <th>bpm</th>\n",
       "      <th>nrgy</th>\n",
       "      <th>dnce</th>\n",
       "      <th>dB</th>\n",
       "      <th>live</th>\n",
       "      <th>val</th>\n",
       "      <th>dur</th>\n",
       "      <th>acous</th>\n",
       "      <th>spch</th>\n",
       "      <th>pop</th>\n",
       "    </tr>\n",
       "  </thead>\n",
       "  <tbody>\n",
       "    <tr>\n",
       "      <th>0</th>\n",
       "      <td>1</td>\n",
       "      <td>107</td>\n",
       "      <td>31</td>\n",
       "      <td>45</td>\n",
       "      <td>-8</td>\n",
       "      <td>13</td>\n",
       "      <td>28</td>\n",
       "      <td>150</td>\n",
       "      <td>75</td>\n",
       "      <td>3</td>\n",
       "      <td>44</td>\n",
       "    </tr>\n",
       "    <tr>\n",
       "      <th>2</th>\n",
       "      <td>1</td>\n",
       "      <td>105</td>\n",
       "      <td>36</td>\n",
       "      <td>63</td>\n",
       "      <td>-9</td>\n",
       "      <td>13</td>\n",
       "      <td>67</td>\n",
       "      <td>245</td>\n",
       "      <td>11</td>\n",
       "      <td>3</td>\n",
       "      <td>77</td>\n",
       "    </tr>\n",
       "    <tr>\n",
       "      <th>3</th>\n",
       "      <td>1</td>\n",
       "      <td>170</td>\n",
       "      <td>28</td>\n",
       "      <td>47</td>\n",
       "      <td>-16</td>\n",
       "      <td>13</td>\n",
       "      <td>33</td>\n",
       "      <td>232</td>\n",
       "      <td>25</td>\n",
       "      <td>3</td>\n",
       "      <td>67</td>\n",
       "    </tr>\n",
       "    <tr>\n",
       "      <th>4</th>\n",
       "      <td>68</td>\n",
       "      <td>121</td>\n",
       "      <td>47</td>\n",
       "      <td>56</td>\n",
       "      <td>-8</td>\n",
       "      <td>15</td>\n",
       "      <td>40</td>\n",
       "      <td>193</td>\n",
       "      <td>45</td>\n",
       "      <td>3</td>\n",
       "      <td>63</td>\n",
       "    </tr>\n",
       "    <tr>\n",
       "      <th>5</th>\n",
       "      <td>80</td>\n",
       "      <td>110</td>\n",
       "      <td>56</td>\n",
       "      <td>71</td>\n",
       "      <td>-7</td>\n",
       "      <td>12</td>\n",
       "      <td>23</td>\n",
       "      <td>223</td>\n",
       "      <td>15</td>\n",
       "      <td>6</td>\n",
       "      <td>74</td>\n",
       "    </tr>\n",
       "  </tbody>\n",
       "</table>\n",
       "</div>"
      ],
      "text/plain": [
       "   top genre  bpm  nrgy  dnce  dB  live  val  dur  acous  spch  pop\n",
       "0          1  107    31    45  -8    13   28  150     75     3   44\n",
       "2          1  105    36    63  -9    13   67  245     11     3   77\n",
       "3          1  170    28    47 -16    13   33  232     25     3   67\n",
       "4         68  121    47    56  -8    15   40  193     45     3   63\n",
       "5         80  110    56    71  -7    12   23  223     15     6   74"
      ]
     },
     "execution_count": 15,
     "metadata": {},
     "output_type": "execute_result"
    }
   ],
   "source": [
    "train_data = train_data.drop(['Id', 'title', 'artist', 'year'], axis=1)\n",
    "train_data.head()"
   ]
  },
  {
   "cell_type": "code",
   "execution_count": null,
   "id": "b3dfea05",
   "metadata": {},
   "outputs": [],
   "source": []
  },
  {
   "cell_type": "code",
   "execution_count": 16,
   "id": "737c019a",
   "metadata": {},
   "outputs": [
    {
     "data": {
      "image/png": "[encoded data removed]",
      "text/plain": [
       "<Figure size 640x480 with 2 Axes>"
      ]
     },
     "metadata": {},
     "output_type": "display_data"
    }
   ],
   "source": [
    "corr_matrix = train_data.corr()\n",
    "ax = sns.heatmap(corr_matrix, vmin=-1, vmax=1, annot=True, fmt='.1f')\n",
    "plt.title('Corelation Matrix Heatmap')\n",
    "#plt.savefig('Corelation_matrix.jpg')\n",
    "plt.show()"
   ]
  },
  {
   "cell_type": "markdown",
   "id": "f0fe7039",
   "metadata": {},
   "source": [
    "# Training The Model"
   ]
  },
  {
   "cell_type": "code",
   "execution_count": 17,
   "id": "1d9a1207",
   "metadata": {},
   "outputs": [],
   "source": [
    "y = train_data['pop']"
   ]
  },
  {
   "cell_type": "code",
   "execution_count": 18,
   "id": "629e32d5",
   "metadata": {},
   "outputs": [],
   "source": [
    "X = train_data.drop(['pop'], axis = 1)"
   ]
  },
  {
   "cell_type": "code",
   "execution_count": 19,
   "id": "fd9d7e99",
   "metadata": {},
   "outputs": [
    {
     "data": {
      "text/html": [
       "<div>\n",
       "<style scoped>\n",
       "    .dataframe tbody tr th:only-of-type {\n",
       "        vertical-align: middle;\n",
       "    }\n",
       "\n",
       "    .dataframe tbody tr th {\n",
       "        vertical-align: top;\n",
       "    }\n",
       "\n",
       "    .dataframe thead th {\n",
       "        text-align: right;\n",
       "    }\n",
       "</style>\n",
       "<table border=\"1\" class=\"dataframe\">\n",
       "  <thead>\n",
       "    <tr style=\"text-align: right;\">\n",
       "      <th></th>\n",
       "      <th>top genre</th>\n",
       "      <th>bpm</th>\n",
       "      <th>nrgy</th>\n",
       "      <th>dnce</th>\n",
       "      <th>dB</th>\n",
       "      <th>live</th>\n",
       "      <th>val</th>\n",
       "      <th>dur</th>\n",
       "      <th>acous</th>\n",
       "      <th>spch</th>\n",
       "    </tr>\n",
       "  </thead>\n",
       "  <tbody>\n",
       "    <tr>\n",
       "      <th>0</th>\n",
       "      <td>1</td>\n",
       "      <td>107</td>\n",
       "      <td>31</td>\n",
       "      <td>45</td>\n",
       "      <td>-8</td>\n",
       "      <td>13</td>\n",
       "      <td>28</td>\n",
       "      <td>150</td>\n",
       "      <td>75</td>\n",
       "      <td>3</td>\n",
       "    </tr>\n",
       "    <tr>\n",
       "      <th>2</th>\n",
       "      <td>1</td>\n",
       "      <td>105</td>\n",
       "      <td>36</td>\n",
       "      <td>63</td>\n",
       "      <td>-9</td>\n",
       "      <td>13</td>\n",
       "      <td>67</td>\n",
       "      <td>245</td>\n",
       "      <td>11</td>\n",
       "      <td>3</td>\n",
       "    </tr>\n",
       "    <tr>\n",
       "      <th>3</th>\n",
       "      <td>1</td>\n",
       "      <td>170</td>\n",
       "      <td>28</td>\n",
       "      <td>47</td>\n",
       "      <td>-16</td>\n",
       "      <td>13</td>\n",
       "      <td>33</td>\n",
       "      <td>232</td>\n",
       "      <td>25</td>\n",
       "      <td>3</td>\n",
       "    </tr>\n",
       "    <tr>\n",
       "      <th>4</th>\n",
       "      <td>68</td>\n",
       "      <td>121</td>\n",
       "      <td>47</td>\n",
       "      <td>56</td>\n",
       "      <td>-8</td>\n",
       "      <td>15</td>\n",
       "      <td>40</td>\n",
       "      <td>193</td>\n",
       "      <td>45</td>\n",
       "      <td>3</td>\n",
       "    </tr>\n",
       "    <tr>\n",
       "      <th>5</th>\n",
       "      <td>80</td>\n",
       "      <td>110</td>\n",
       "      <td>56</td>\n",
       "      <td>71</td>\n",
       "      <td>-7</td>\n",
       "      <td>12</td>\n",
       "      <td>23</td>\n",
       "      <td>223</td>\n",
       "      <td>15</td>\n",
       "      <td>6</td>\n",
       "    </tr>\n",
       "    <tr>\n",
       "      <th>...</th>\n",
       "      <td>...</td>\n",
       "      <td>...</td>\n",
       "      <td>...</td>\n",
       "      <td>...</td>\n",
       "      <td>...</td>\n",
       "      <td>...</td>\n",
       "      <td>...</td>\n",
       "      <td>...</td>\n",
       "      <td>...</td>\n",
       "      <td>...</td>\n",
       "    </tr>\n",
       "    <tr>\n",
       "      <th>448</th>\n",
       "      <td>1</td>\n",
       "      <td>80</td>\n",
       "      <td>22</td>\n",
       "      <td>18</td>\n",
       "      <td>-17</td>\n",
       "      <td>10</td>\n",
       "      <td>16</td>\n",
       "      <td>214</td>\n",
       "      <td>92</td>\n",
       "      <td>4</td>\n",
       "    </tr>\n",
       "    <tr>\n",
       "      <th>449</th>\n",
       "      <td>25</td>\n",
       "      <td>148</td>\n",
       "      <td>81</td>\n",
       "      <td>53</td>\n",
       "      <td>-13</td>\n",
       "      <td>23</td>\n",
       "      <td>96</td>\n",
       "      <td>147</td>\n",
       "      <td>50</td>\n",
       "      <td>3</td>\n",
       "    </tr>\n",
       "    <tr>\n",
       "      <th>450</th>\n",
       "      <td>51</td>\n",
       "      <td>168</td>\n",
       "      <td>55</td>\n",
       "      <td>73</td>\n",
       "      <td>-8</td>\n",
       "      <td>20</td>\n",
       "      <td>61</td>\n",
       "      <td>289</td>\n",
       "      <td>23</td>\n",
       "      <td>14</td>\n",
       "    </tr>\n",
       "    <tr>\n",
       "      <th>451</th>\n",
       "      <td>24</td>\n",
       "      <td>165</td>\n",
       "      <td>87</td>\n",
       "      <td>64</td>\n",
       "      <td>-5</td>\n",
       "      <td>6</td>\n",
       "      <td>88</td>\n",
       "      <td>191</td>\n",
       "      <td>5</td>\n",
       "      <td>8</td>\n",
       "    </tr>\n",
       "    <tr>\n",
       "      <th>452</th>\n",
       "      <td>4</td>\n",
       "      <td>105</td>\n",
       "      <td>73</td>\n",
       "      <td>68</td>\n",
       "      <td>-8</td>\n",
       "      <td>14</td>\n",
       "      <td>94</td>\n",
       "      <td>281</td>\n",
       "      <td>11</td>\n",
       "      <td>2</td>\n",
       "    </tr>\n",
       "  </tbody>\n",
       "</table>\n",
       "<p>438 rows × 10 columns</p>\n",
       "</div>"
      ],
      "text/plain": [
       "     top genre  bpm  nrgy  dnce  dB  live  val  dur  acous  spch\n",
       "0            1  107    31    45  -8    13   28  150     75     3\n",
       "2            1  105    36    63  -9    13   67  245     11     3\n",
       "3            1  170    28    47 -16    13   33  232     25     3\n",
       "4           68  121    47    56  -8    15   40  193     45     3\n",
       "5           80  110    56    71  -7    12   23  223     15     6\n",
       "..         ...  ...   ...   ...  ..   ...  ...  ...    ...   ...\n",
       "448          1   80    22    18 -17    10   16  214     92     4\n",
       "449         25  148    81    53 -13    23   96  147     50     3\n",
       "450         51  168    55    73  -8    20   61  289     23    14\n",
       "451         24  165    87    64  -5     6   88  191      5     8\n",
       "452          4  105    73    68  -8    14   94  281     11     2\n",
       "\n",
       "[438 rows x 10 columns]"
      ]
     },
     "execution_count": 19,
     "metadata": {},
     "output_type": "execute_result"
    }
   ],
   "source": [
    "X"
   ]
  },
  {
   "cell_type": "code",
   "execution_count": 20,
   "id": "d474a14f",
   "metadata": {},
   "outputs": [
    {
     "data": {
      "text/plain": [
       "0      44\n",
       "2      77\n",
       "3      67\n",
       "4      63\n",
       "5      74\n",
       "       ..\n",
       "448    45\n",
       "449    50\n",
       "450    77\n",
       "451    62\n",
       "452    59\n",
       "Name: pop, Length: 438, dtype: int64"
      ]
     },
     "execution_count": 20,
     "metadata": {},
     "output_type": "execute_result"
    }
   ],
   "source": [
    "y"
   ]
  },
  {
   "cell_type": "code",
   "execution_count": 21,
   "id": "10aa66f1",
   "metadata": {},
   "outputs": [],
   "source": [
    "X_train, X_test, y_train, y_test = train_test_split(X, y, test_size=0.3)"
   ]
  },
  {
   "cell_type": "code",
   "execution_count": 22,
   "id": "ebca316c",
   "metadata": {},
   "outputs": [
    {
     "name": "stdout",
     "output_type": "stream",
     "text": [
      "Number of record in X_train:  306\n",
      "Number of record in X_test:  132\n",
      "Number of record in y_train:  306\n",
      "Number of record in y_test:  132\n"
     ]
    }
   ],
   "source": [
    "print('Number of record in X_train: ',len(X_train))\n",
    "print('Number of record in X_test: ',len(X_test))\n",
    "print('Number of record in y_train: ',len(y_train))\n",
    "print('Number of record in y_test: ',len(y_test))"
   ]
  },
  {
   "cell_type": "code",
   "execution_count": 23,
   "id": "aeece0fd",
   "metadata": {},
   "outputs": [],
   "source": [
    "from sklearn.metrics import accuracy_score,confusion_matrix,mean_squared_error,mean_absolute_error,mean_absolute_percentage_error"
   ]
  },
  {
   "cell_type": "code",
   "execution_count": 24,
   "id": "240ca067",
   "metadata": {},
   "outputs": [
    {
     "data": {
      "text/plain": [
       "LinearRegression()"
      ]
     },
     "execution_count": 24,
     "metadata": {},
     "output_type": "execute_result"
    }
   ],
   "source": [
    "reg_1 = linear_model.LinearRegression()\n",
    "reg_1.fit(X_train, y_train)"
   ]
  },
  {
   "cell_type": "code",
   "execution_count": 25,
   "id": "c18898f4",
   "metadata": {},
   "outputs": [
    {
     "name": "stdout",
     "output_type": "stream",
     "text": [
      "Our model performs with the accuracy of : 20.535647768948905 %\n"
     ]
    }
   ],
   "source": [
    "m1score = reg_1.score(X_test, y_test)\n",
    "print('Our model performs with the accuracy of :', m1score*100, '%')"
   ]
  },
  {
   "cell_type": "code",
   "execution_count": 26,
   "id": "95de8b65",
   "metadata": {},
   "outputs": [
    {
     "name": "stdout",
     "output_type": "stream",
     "text": [
      "Root mean square error: 11.388124922515695\n",
      "Mean absolute error: 9.406455336779057\n",
      "Mean absolute percentage error 0.16662777727739683\n"
     ]
    }
   ],
   "source": [
    "predicted = reg_1.predict(X_test)\n",
    "mse = mean_squared_error(y_test,predicted)\n",
    "rmse = np.sqrt(mse)\n",
    "\n",
    "print(\"Root mean square error:\",rmse)\n",
    "print(\"Mean absolute error:\",mean_absolute_error(y_test,predicted))\n",
    "print(\"Mean absolute percentage error\", mean_absolute_percentage_error(y_test,predicted))"
   ]
  },
  {
   "cell_type": "code",
   "execution_count": 27,
   "id": "4db7bdef",
   "metadata": {},
   "outputs": [
    {
     "data": {
      "text/plain": [
       "Lasso(alpha=0.1)"
      ]
     },
     "execution_count": 27,
     "metadata": {},
     "output_type": "execute_result"
    }
   ],
   "source": [
    "reg_2 = linear_model.Lasso(alpha=0.1)\n",
    "reg_2.fit(X_train, y_train)"
   ]
  },
  {
   "cell_type": "code",
   "execution_count": 28,
   "id": "e2887911",
   "metadata": {},
   "outputs": [
    {
     "name": "stdout",
     "output_type": "stream",
     "text": [
      "Our model performs with the accuracy of : 20.504866746797113 %\n"
     ]
    }
   ],
   "source": [
    "m2score = reg_2.score(X_test, y_test)\n",
    "print('Our model performs with the accuracy of :', m2score*100, '%')"
   ]
  },
  {
   "cell_type": "code",
   "execution_count": 29,
   "id": "6f64161d",
   "metadata": {},
   "outputs": [
    {
     "name": "stdout",
     "output_type": "stream",
     "text": [
      "Root mean square error: 11.39033034026873\n",
      "Mean absolute error: 9.405873622833441\n",
      "Mean absolute percentage error 0.166627433524848\n"
     ]
    }
   ],
   "source": [
    "predicted = reg_2.predict(X_test)\n",
    "mse = mean_squared_error(y_test,predicted)\n",
    "rmse = np.sqrt(mse)\n",
    "\n",
    "print(\"Root mean square error:\",rmse)\n",
    "print(\"Mean absolute error:\",mean_absolute_error(y_test,predicted))\n",
    "print(\"Mean absolute percentage error\", mean_absolute_percentage_error(y_test,predicted))"
   ]
  },
  {
   "cell_type": "code",
   "execution_count": 30,
   "id": "8c2f02bf",
   "metadata": {},
   "outputs": [
    {
     "data": {
      "text/plain": [
       "LassoLars(alpha=0.1, normalize=False)"
      ]
     },
     "execution_count": 30,
     "metadata": {},
     "output_type": "execute_result"
    }
   ],
   "source": [
    "reg_3 = linear_model.LassoLars(alpha=.1, normalize=False)\n",
    "reg_3.fit(X_train, y_train)"
   ]
  },
  {
   "cell_type": "code",
   "execution_count": 31,
   "id": "d6a716eb",
   "metadata": {},
   "outputs": [
    {
     "name": "stdout",
     "output_type": "stream",
     "text": [
      "Our model performs with the accuracy of : 20.504905833656284 %\n"
     ]
    }
   ],
   "source": [
    "m3score = reg_3.score(X_test, y_test)\n",
    "print('Our model performs with the accuracy of :', m3score*100, '%')"
   ]
  },
  {
   "cell_type": "code",
   "execution_count": 32,
   "id": "d01f5f67",
   "metadata": {},
   "outputs": [
    {
     "name": "stdout",
     "output_type": "stream",
     "text": [
      "Root mean square error: 11.390327540019994\n",
      "Mean absolute error: 9.405870372454656\n",
      "Mean absolute percentage error 0.16662740457969738\n"
     ]
    }
   ],
   "source": [
    "predicted = reg_3.predict(X_test)\n",
    "mse = mean_squared_error(y_test,predicted)\n",
    "rmse = np.sqrt(mse)\n",
    "\n",
    "print(\"Root mean square error:\",rmse)\n",
    "print(\"Mean absolute error:\",mean_absolute_error(y_test,predicted))\n",
    "print(\"Mean absolute percentage error\", mean_absolute_percentage_error(y_test,predicted))"
   ]
  },
  {
   "cell_type": "code",
   "execution_count": 33,
   "id": "4cd72842",
   "metadata": {},
   "outputs": [
    {
     "data": {
      "text/plain": [
       "SVR()"
      ]
     },
     "execution_count": 33,
     "metadata": {},
     "output_type": "execute_result"
    }
   ],
   "source": [
    "reg_4 = svm.SVR()\n",
    "reg_4.fit(X_train, y_train)"
   ]
  },
  {
   "cell_type": "code",
   "execution_count": 34,
   "id": "8321d757",
   "metadata": {},
   "outputs": [
    {
     "name": "stdout",
     "output_type": "stream",
     "text": [
      "Our model performs with the accuracy of : 20.32814251463203 %\n"
     ]
    }
   ],
   "source": [
    "m4score = reg_4.score(X_test, y_test)\n",
    "print('Our model performs with the accuracy of :', m4score*100, '%')"
   ]
  },
  {
   "cell_type": "code",
   "execution_count": 35,
   "id": "44f2c433",
   "metadata": {},
   "outputs": [
    {
     "name": "stdout",
     "output_type": "stream",
     "text": [
      "Root mean square error: 11.402984133060682\n",
      "Mean absolute error: 9.5083879308457\n",
      "Mean absolute percentage error 0.17784168780273635\n"
     ]
    }
   ],
   "source": [
    "predicted = reg_4.predict(X_test)\n",
    "mse = mean_squared_error(y_test,predicted)\n",
    "rmse = np.sqrt(mse)\n",
    "\n",
    "print(\"Root mean square error:\",rmse)\n",
    "print(\"Mean absolute error:\",mean_absolute_error(y_test,predicted))\n",
    "print(\"Mean absolute percentage error\", mean_absolute_percentage_error(y_test,predicted))"
   ]
  },
  {
   "cell_type": "code",
   "execution_count": 36,
   "id": "78098886",
   "metadata": {},
   "outputs": [],
   "source": [
    "from sklearn.linear_model import SGDRegressor\n",
    "from sklearn.ensemble import RandomForestRegressor, GradientBoostingRegressor, HistGradientBoostingRegressor"
   ]
  },
  {
   "cell_type": "code",
   "execution_count": 37,
   "id": "8a844b72",
   "metadata": {},
   "outputs": [
    {
     "data": {
      "text/plain": [
       "SGDRegressor()"
      ]
     },
     "execution_count": 37,
     "metadata": {},
     "output_type": "execute_result"
    }
   ],
   "source": [
    "reg_5 = SGDRegressor()\n",
    "reg_5.fit(X_train, y_train)"
   ]
  },
  {
   "cell_type": "code",
   "execution_count": 38,
   "id": "b3e655dc",
   "metadata": {},
   "outputs": [
    {
     "name": "stdout",
     "output_type": "stream",
     "text": [
      "Our model performs with the accuracy of : -2.786376187540674e+27 %\n"
     ]
    }
   ],
   "source": [
    "m5score = reg_5.score(X_test, y_test)\n",
    "print('Our model performs with the accuracy of :', m5score*100, '%')"
   ]
  },
  {
   "cell_type": "code",
   "execution_count": 39,
   "id": "1bc5f29c",
   "metadata": {},
   "outputs": [
    {
     "name": "stdout",
     "output_type": "stream",
     "text": [
      "Root mean square error: 67435087249662.266\n",
      "Mean absolute error: 65938850757297.64\n",
      "Mean absolute percentage error 1108831761893.5312\n"
     ]
    }
   ],
   "source": [
    "predicted = reg_5.predict(X_test)\n",
    "mse = mean_squared_error(y_test,predicted)\n",
    "rmse = np.sqrt(mse)\n",
    "\n",
    "print(\"Root mean square error:\",rmse)\n",
    "print(\"Mean absolute error:\",mean_absolute_error(y_test,predicted))\n",
    "print(\"Mean absolute percentage error\", mean_absolute_percentage_error(y_test,predicted))"
   ]
  },
  {
   "cell_type": "code",
   "execution_count": 40,
   "id": "be5c773f",
   "metadata": {},
   "outputs": [
    {
     "data": {
      "text/plain": [
       "RandomForestRegressor(max_depth=100, random_state=0)"
      ]
     },
     "execution_count": 40,
     "metadata": {},
     "output_type": "execute_result"
    }
   ],
   "source": [
    "reg_6 = RandomForestRegressor(max_depth=100, random_state=0)\n",
    "reg_6.fit(X_train, y_train)"
   ]
  },
  {
   "cell_type": "code",
   "execution_count": 41,
   "id": "d0bbf2e6",
   "metadata": {},
   "outputs": [
    {
     "name": "stdout",
     "output_type": "stream",
     "text": [
      "Our model performs with the accuracy of : 24.07695283040433 %\n"
     ]
    }
   ],
   "source": [
    "m6score = reg_6.score(X_test, y_test)\n",
    "print('Our model performs with the accuracy of :', m6score*100, '%')"
   ]
  },
  {
   "cell_type": "code",
   "execution_count": 42,
   "id": "b1ebea25",
   "metadata": {},
   "outputs": [
    {
     "name": "stdout",
     "output_type": "stream",
     "text": [
      "R2 score : 0.2407695283040433\n",
      "Root mean square error: 11.131478808071524\n",
      "Root mean square error Train: 3.9380694317994447\n",
      "Mean absolute error: 9.10871212121212\n",
      "Mean absolute percentage error 0.1603879501518979\n"
     ]
    }
   ],
   "source": [
    "predicted = reg_6.predict(X_test)\n",
    "mse = mean_squared_error(y_test,predicted)\n",
    "rmse = np.sqrt(mse)\n",
    "\n",
    "predicted_train = reg_6.predict(X_train)\n",
    "mse_train = mean_squared_error(y_train,predicted_train)\n",
    "rmse_train = np.sqrt(mse_train)\n",
    "r2 = r2_score(y_test, predicted)\n",
    "\n",
    "print(\"R2 score :\", r2)\n",
    "print(\"Root mean square error:\",rmse)\n",
    "print(\"Root mean square error Train:\",rmse_train)\n",
    "print(\"Mean absolute error:\",mean_absolute_error(y_test,predicted))\n",
    "print(\"Mean absolute percentage error\", mean_absolute_percentage_error(y_test,predicted))"
   ]
  },
  {
   "cell_type": "code",
   "execution_count": 43,
   "id": "5f9ca592",
   "metadata": {},
   "outputs": [
    {
     "data": {
      "text/plain": [
       "GradientBoostingRegressor(max_depth=10, random_state=0)"
      ]
     },
     "execution_count": 43,
     "metadata": {},
     "output_type": "execute_result"
    }
   ],
   "source": [
    "reg_7 = GradientBoostingRegressor(max_depth=10, random_state=0)\n",
    "reg_7.fit(X, y)"
   ]
  },
  {
   "cell_type": "code",
   "execution_count": 44,
   "id": "610105d4",
   "metadata": {},
   "outputs": [
    {
     "name": "stdout",
     "output_type": "stream",
     "text": [
      "Our model performs with the accuracy of : 99.99985959738999 %\n"
     ]
    }
   ],
   "source": [
    "m7score = reg_7.score(X_test, y_test)\n",
    "print('Our model performs with the accuracy of :', m7score*100, '%')"
   ]
  },
  {
   "cell_type": "code",
   "execution_count": 45,
   "id": "12326de0",
   "metadata": {},
   "outputs": [
    {
     "name": "stdout",
     "output_type": "stream",
     "text": [
      "R2 score : 0.9999985959738998\n",
      "Root mean square error: 0.015137481987078955\n",
      "Root mean square error Train: 0.014948421837133222\n",
      "Mean absolute error: 0.01107638110170072\n",
      "Mean absolute percentage error 0.00018641616376569926\n"
     ]
    }
   ],
   "source": [
    "predicted = reg_7.predict(X_test)\n",
    "mse = mean_squared_error(y_test,predicted)\n",
    "rmse = np.sqrt(mse)\n",
    "\n",
    "predicted_train = reg_7.predict(X_train)\n",
    "mse_train = mean_squared_error(y_train,predicted_train)\n",
    "rmse_train = np.sqrt(mse_train)\n",
    "r2 = r2_score(y_test, predicted)\n",
    "\n",
    "print(\"R2 score :\", r2)\n",
    "print(\"Root mean square error:\",rmse)\n",
    "print(\"Root mean square error Train:\",rmse_train)\n",
    "\n",
    "print(\"Mean absolute error:\",mean_absolute_error(y_test,predicted))\n",
    "print(\"Mean absolute percentage error\", mean_absolute_percentage_error(y_test,predicted))"
   ]
  },
  {
   "cell_type": "code",
   "execution_count": 46,
   "id": "013b7ee8",
   "metadata": {},
   "outputs": [
    {
     "data": {
      "text/plain": [
       "HistGradientBoostingRegressor()"
      ]
     },
     "execution_count": 46,
     "metadata": {},
     "output_type": "execute_result"
    }
   ],
   "source": [
    "reg_8 = HistGradientBoostingRegressor()\n",
    "reg_8.fit(X, y)"
   ]
  },
  {
   "cell_type": "code",
   "execution_count": 47,
   "id": "f6960bd3",
   "metadata": {},
   "outputs": [
    {
     "name": "stdout",
     "output_type": "stream",
     "text": [
      "Our model performs with the accuracy of : 90.3194142718769 %\n"
     ]
    }
   ],
   "source": [
    "m8score = reg_8.score(X_test, y_test)\n",
    "print('Our model performs with the accuracy of :', m8score*100, '%')"
   ]
  },
  {
   "cell_type": "code",
   "execution_count": 48,
   "id": "206f2108",
   "metadata": {},
   "outputs": [
    {
     "name": "stdout",
     "output_type": "stream",
     "text": [
      "R2 score : 0.903194142718769\n",
      "Root mean square error: 3.9748145087575093\n",
      "Mean absolute error: 2.978303972645988\n",
      "Mean absolute percentage error 0.053661067826740516\n"
     ]
    }
   ],
   "source": [
    "predicted = reg_8.predict(X_test)\n",
    "mse = mean_squared_error(y_test,predicted)\n",
    "rmse = np.sqrt(mse)\n",
    "r2 = r2_score(y_test, predicted)\n",
    "\n",
    "print(\"R2 score :\", r2)\n",
    "\n",
    "print(\"Root mean square error:\",rmse)\n",
    "print(\"Mean absolute error:\",mean_absolute_error(y_test,predicted))\n",
    "print(\"Mean absolute percentage error\", mean_absolute_percentage_error(y_test,predicted))"
   ]
  },
  {
   "cell_type": "code",
   "execution_count": null,
   "id": "97dd9b26",
   "metadata": {},
   "outputs": [],
   "source": []
  },
  {
   "cell_type": "markdown",
   "id": "d88feb4d",
   "metadata": {},
   "source": [
    "# Testing the Data"
   ]
  },
  {
   "cell_type": "code",
   "execution_count": 49,
   "id": "9c1f7cfe",
   "metadata": {},
   "outputs": [
    {
     "data": {
      "text/html": [
       "<div>\n",
       "<style scoped>\n",
       "    .dataframe tbody tr th:only-of-type {\n",
       "        vertical-align: middle;\n",
       "    }\n",
       "\n",
       "    .dataframe tbody tr th {\n",
       "        vertical-align: top;\n",
       "    }\n",
       "\n",
       "    .dataframe thead th {\n",
       "        text-align: right;\n",
       "    }\n",
       "</style>\n",
       "<table border=\"1\" class=\"dataframe\">\n",
       "  <thead>\n",
       "    <tr style=\"text-align: right;\">\n",
       "      <th></th>\n",
       "      <th>Id</th>\n",
       "      <th>title</th>\n",
       "      <th>artist</th>\n",
       "      <th>top genre</th>\n",
       "      <th>year</th>\n",
       "      <th>bpm</th>\n",
       "      <th>nrgy</th>\n",
       "      <th>dnce</th>\n",
       "      <th>dB</th>\n",
       "      <th>live</th>\n",
       "      <th>val</th>\n",
       "      <th>dur</th>\n",
       "      <th>acous</th>\n",
       "      <th>spch</th>\n",
       "    </tr>\n",
       "  </thead>\n",
       "  <tbody>\n",
       "    <tr>\n",
       "      <th>0</th>\n",
       "      <td>454</td>\n",
       "      <td>Pump It</td>\n",
       "      <td>The Black Eyed Peas</td>\n",
       "      <td>dance pop</td>\n",
       "      <td>2005</td>\n",
       "      <td>154</td>\n",
       "      <td>93</td>\n",
       "      <td>65</td>\n",
       "      <td>-3</td>\n",
       "      <td>75</td>\n",
       "      <td>74</td>\n",
       "      <td>213</td>\n",
       "      <td>1</td>\n",
       "      <td>18</td>\n",
       "    </tr>\n",
       "    <tr>\n",
       "      <th>1</th>\n",
       "      <td>455</td>\n",
       "      <td>Circle of Life - From \"The Lion King\"/Soundtra...</td>\n",
       "      <td>Elton John</td>\n",
       "      <td>glam rock</td>\n",
       "      <td>1994</td>\n",
       "      <td>161</td>\n",
       "      <td>39</td>\n",
       "      <td>30</td>\n",
       "      <td>-15</td>\n",
       "      <td>11</td>\n",
       "      <td>14</td>\n",
       "      <td>292</td>\n",
       "      <td>26</td>\n",
       "      <td>3</td>\n",
       "    </tr>\n",
       "    <tr>\n",
       "      <th>2</th>\n",
       "      <td>456</td>\n",
       "      <td>We Are The Champions - Remastered 2011</td>\n",
       "      <td>Queen</td>\n",
       "      <td>glam rock</td>\n",
       "      <td>1977</td>\n",
       "      <td>64</td>\n",
       "      <td>46</td>\n",
       "      <td>27</td>\n",
       "      <td>-7</td>\n",
       "      <td>12</td>\n",
       "      <td>18</td>\n",
       "      <td>179</td>\n",
       "      <td>38</td>\n",
       "      <td>3</td>\n",
       "    </tr>\n",
       "    <tr>\n",
       "      <th>3</th>\n",
       "      <td>457</td>\n",
       "      <td>Insomnia - Radio Edit</td>\n",
       "      <td>Faithless</td>\n",
       "      <td>big beat</td>\n",
       "      <td>2010</td>\n",
       "      <td>127</td>\n",
       "      <td>92</td>\n",
       "      <td>71</td>\n",
       "      <td>-9</td>\n",
       "      <td>37</td>\n",
       "      <td>53</td>\n",
       "      <td>216</td>\n",
       "      <td>6</td>\n",
       "      <td>4</td>\n",
       "    </tr>\n",
       "    <tr>\n",
       "      <th>4</th>\n",
       "      <td>458</td>\n",
       "      <td>This Eve of Parting</td>\n",
       "      <td>John Hartford</td>\n",
       "      <td>appalachian folk</td>\n",
       "      <td>2018</td>\n",
       "      <td>115</td>\n",
       "      <td>46</td>\n",
       "      <td>56</td>\n",
       "      <td>-12</td>\n",
       "      <td>21</td>\n",
       "      <td>34</td>\n",
       "      <td>153</td>\n",
       "      <td>18</td>\n",
       "      <td>3</td>\n",
       "    </tr>\n",
       "  </tbody>\n",
       "</table>\n",
       "</div>"
      ],
      "text/plain": [
       "    Id                                              title  \\\n",
       "0  454                                            Pump It   \n",
       "1  455  Circle of Life - From \"The Lion King\"/Soundtra...   \n",
       "2  456             We Are The Champions - Remastered 2011   \n",
       "3  457                              Insomnia - Radio Edit   \n",
       "4  458                                This Eve of Parting   \n",
       "\n",
       "                artist         top genre  year  bpm  nrgy  dnce  dB  live  \\\n",
       "0  The Black Eyed Peas         dance pop  2005  154    93    65  -3    75   \n",
       "1           Elton John         glam rock  1994  161    39    30 -15    11   \n",
       "2                Queen         glam rock  1977   64    46    27  -7    12   \n",
       "3            Faithless          big beat  2010  127    92    71  -9    37   \n",
       "4        John Hartford  appalachian folk  2018  115    46    56 -12    21   \n",
       "\n",
       "   val  dur  acous  spch  \n",
       "0   74  213      1    18  \n",
       "1   14  292     26     3  \n",
       "2   18  179     38     3  \n",
       "3   53  216      6     4  \n",
       "4   34  153     18     3  "
      ]
     },
     "execution_count": 49,
     "metadata": {},
     "output_type": "execute_result"
    }
   ],
   "source": [
    "test_data = pd.read_csv('CS98XRegressionTest.csv')\n",
    "test_data.head()"
   ]
  },
  {
   "cell_type": "code",
   "execution_count": 50,
   "id": "6c166f4d",
   "metadata": {},
   "outputs": [],
   "source": [
    "Id_col = test_data['Id']"
   ]
  },
  {
   "cell_type": "code",
   "execution_count": 51,
   "id": "875e5849",
   "metadata": {},
   "outputs": [],
   "source": [
    "test_data.drop(['Id', 'title', 'artist', 'year'], axis = 1, inplace=True)"
   ]
  },
  {
   "cell_type": "code",
   "execution_count": 52,
   "id": "068d962e",
   "metadata": {},
   "outputs": [
    {
     "data": {
      "text/html": [
       "<div>\n",
       "<style scoped>\n",
       "    .dataframe tbody tr th:only-of-type {\n",
       "        vertical-align: middle;\n",
       "    }\n",
       "\n",
       "    .dataframe tbody tr th {\n",
       "        vertical-align: top;\n",
       "    }\n",
       "\n",
       "    .dataframe thead th {\n",
       "        text-align: right;\n",
       "    }\n",
       "</style>\n",
       "<table border=\"1\" class=\"dataframe\">\n",
       "  <thead>\n",
       "    <tr style=\"text-align: right;\">\n",
       "      <th></th>\n",
       "      <th>top genre</th>\n",
       "      <th>nrgy</th>\n",
       "      <th>dnce</th>\n",
       "      <th>dB</th>\n",
       "      <th>dur</th>\n",
       "      <th>spch</th>\n",
       "    </tr>\n",
       "  </thead>\n",
       "  <tbody>\n",
       "    <tr>\n",
       "      <th>0</th>\n",
       "      <td>dance pop</td>\n",
       "      <td>93</td>\n",
       "      <td>65</td>\n",
       "      <td>-3</td>\n",
       "      <td>213</td>\n",
       "      <td>18</td>\n",
       "    </tr>\n",
       "    <tr>\n",
       "      <th>1</th>\n",
       "      <td>glam rock</td>\n",
       "      <td>39</td>\n",
       "      <td>30</td>\n",
       "      <td>-15</td>\n",
       "      <td>292</td>\n",
       "      <td>3</td>\n",
       "    </tr>\n",
       "    <tr>\n",
       "      <th>2</th>\n",
       "      <td>glam rock</td>\n",
       "      <td>46</td>\n",
       "      <td>27</td>\n",
       "      <td>-7</td>\n",
       "      <td>179</td>\n",
       "      <td>3</td>\n",
       "    </tr>\n",
       "    <tr>\n",
       "      <th>3</th>\n",
       "      <td>big beat</td>\n",
       "      <td>92</td>\n",
       "      <td>71</td>\n",
       "      <td>-9</td>\n",
       "      <td>216</td>\n",
       "      <td>4</td>\n",
       "    </tr>\n",
       "    <tr>\n",
       "      <th>4</th>\n",
       "      <td>appalachian folk</td>\n",
       "      <td>46</td>\n",
       "      <td>56</td>\n",
       "      <td>-12</td>\n",
       "      <td>153</td>\n",
       "      <td>3</td>\n",
       "    </tr>\n",
       "    <tr>\n",
       "      <th>...</th>\n",
       "      <td>...</td>\n",
       "      <td>...</td>\n",
       "      <td>...</td>\n",
       "      <td>...</td>\n",
       "      <td>...</td>\n",
       "      <td>...</td>\n",
       "    </tr>\n",
       "    <tr>\n",
       "      <th>109</th>\n",
       "      <td>east coast hip hop</td>\n",
       "      <td>57</td>\n",
       "      <td>61</td>\n",
       "      <td>-8</td>\n",
       "      <td>209</td>\n",
       "      <td>47</td>\n",
       "    </tr>\n",
       "    <tr>\n",
       "      <th>110</th>\n",
       "      <td>bubblegum dance</td>\n",
       "      <td>89</td>\n",
       "      <td>67</td>\n",
       "      <td>-6</td>\n",
       "      <td>215</td>\n",
       "      <td>3</td>\n",
       "    </tr>\n",
       "    <tr>\n",
       "      <th>111</th>\n",
       "      <td>east coast hip hop</td>\n",
       "      <td>58</td>\n",
       "      <td>78</td>\n",
       "      <td>-7</td>\n",
       "      <td>253</td>\n",
       "      <td>27</td>\n",
       "    </tr>\n",
       "    <tr>\n",
       "      <th>112</th>\n",
       "      <td>disco</td>\n",
       "      <td>97</td>\n",
       "      <td>72</td>\n",
       "      <td>-5</td>\n",
       "      <td>287</td>\n",
       "      <td>14</td>\n",
       "    </tr>\n",
       "    <tr>\n",
       "      <th>113</th>\n",
       "      <td>glam metal</td>\n",
       "      <td>89</td>\n",
       "      <td>53</td>\n",
       "      <td>-4</td>\n",
       "      <td>249</td>\n",
       "      <td>3</td>\n",
       "    </tr>\n",
       "  </tbody>\n",
       "</table>\n",
       "<p>114 rows × 6 columns</p>\n",
       "</div>"
      ],
      "text/plain": [
       "              top genre  nrgy  dnce  dB  dur  spch\n",
       "0             dance pop    93    65  -3  213    18\n",
       "1             glam rock    39    30 -15  292     3\n",
       "2             glam rock    46    27  -7  179     3\n",
       "3              big beat    92    71  -9  216     4\n",
       "4      appalachian folk    46    56 -12  153     3\n",
       "..                  ...   ...   ...  ..  ...   ...\n",
       "109  east coast hip hop    57    61  -8  209    47\n",
       "110     bubblegum dance    89    67  -6  215     3\n",
       "111  east coast hip hop    58    78  -7  253    27\n",
       "112               disco    97    72  -5  287    14\n",
       "113          glam metal    89    53  -4  249     3\n",
       "\n",
       "[114 rows x 6 columns]"
      ]
     },
     "execution_count": 52,
     "metadata": {},
     "output_type": "execute_result"
    }
   ],
   "source": [
    "test_data"
   ]
  },
  {
   "cell_type": "code",
   "execution_count": 53,
   "id": "c69206d0",
   "metadata": {},
   "outputs": [
    {
     "name": "stdout",
     "output_type": "stream",
     "text": [
      "top genre :  ['dance pop' 'glam rock' 'big beat' 'appalachian folk' 'adult standards'\n",
      " 'mellow gold' 'album rock' 'brill building pop' 'barbadian pop'\n",
      " 'british invasion' 'bubblegum dance' 'hollywood' 'cowboy western'\n",
      " 'hip hop' 'g funk' 'eurodance' 'native american' 'alternative country'\n",
      " 'east coast hip hop' 'art rock' 'blues rock' 'dance rock'\n",
      " 'classic country pop' 'beach music' 'neo mellow' 'disco' nan 'europop'\n",
      " 'classic rock' 'bronx hip hop' 'alternative metal' 'big room'\n",
      " 'modern rock' 'dirty south rap' 'canadian pop' 'boy band'\n",
      " 'deep adult standards' 'diva house' 'jazz fusion' 'glam metal'] \n",
      "\n"
     ]
    }
   ],
   "source": [
    "\n",
    "textual_data = ['top genre']\n",
    "\n",
    "for col in textual_data:\n",
    "    print(col, \": \", test_data[col].unique(), \"\\n\")\n"
   ]
  },
  {
   "cell_type": "code",
   "execution_count": 54,
   "id": "992ccf73",
   "metadata": {},
   "outputs": [
    {
     "data": {
      "text/html": [
       "<div>\n",
       "<style scoped>\n",
       "    .dataframe tbody tr th:only-of-type {\n",
       "        vertical-align: middle;\n",
       "    }\n",
       "\n",
       "    .dataframe tbody tr th {\n",
       "        vertical-align: top;\n",
       "    }\n",
       "\n",
       "    .dataframe thead th {\n",
       "        text-align: right;\n",
       "    }\n",
       "</style>\n",
       "<table border=\"1\" class=\"dataframe\">\n",
       "  <thead>\n",
       "    <tr style=\"text-align: right;\">\n",
       "      <th></th>\n",
       "      <th>top genre</th>\n",
       "      <th>nrgy</th>\n",
       "      <th>dnce</th>\n",
       "      <th>dB</th>\n",
       "      <th>dur</th>\n",
       "      <th>spch</th>\n",
       "    </tr>\n",
       "  </thead>\n",
       "  <tbody>\n",
       "    <tr>\n",
       "      <th>0</th>\n",
       "      <td>20</td>\n",
       "      <td>93</td>\n",
       "      <td>65</td>\n",
       "      <td>-3</td>\n",
       "      <td>213</td>\n",
       "      <td>18</td>\n",
       "    </tr>\n",
       "    <tr>\n",
       "      <th>1</th>\n",
       "      <td>31</td>\n",
       "      <td>39</td>\n",
       "      <td>30</td>\n",
       "      <td>-15</td>\n",
       "      <td>292</td>\n",
       "      <td>3</td>\n",
       "    </tr>\n",
       "    <tr>\n",
       "      <th>2</th>\n",
       "      <td>31</td>\n",
       "      <td>46</td>\n",
       "      <td>27</td>\n",
       "      <td>-7</td>\n",
       "      <td>179</td>\n",
       "      <td>3</td>\n",
       "    </tr>\n",
       "    <tr>\n",
       "      <th>3</th>\n",
       "      <td>8</td>\n",
       "      <td>92</td>\n",
       "      <td>71</td>\n",
       "      <td>-9</td>\n",
       "      <td>216</td>\n",
       "      <td>4</td>\n",
       "    </tr>\n",
       "    <tr>\n",
       "      <th>4</th>\n",
       "      <td>4</td>\n",
       "      <td>46</td>\n",
       "      <td>56</td>\n",
       "      <td>-12</td>\n",
       "      <td>153</td>\n",
       "      <td>3</td>\n",
       "    </tr>\n",
       "  </tbody>\n",
       "</table>\n",
       "</div>"
      ],
      "text/plain": [
       "   top genre  nrgy  dnce  dB  dur  spch\n",
       "0         20    93    65  -3  213    18\n",
       "1         31    39    30 -15  292     3\n",
       "2         31    46    27  -7  179     3\n",
       "3          8    92    71  -9  216     4\n",
       "4          4    46    56 -12  153     3"
      ]
     },
     "execution_count": 54,
     "metadata": {},
     "output_type": "execute_result"
    }
   ],
   "source": [
    "\n",
    "encoder = LabelEncoder()\n",
    "for col in textual_data:\n",
    "    test_data[col] = encoder.fit_transform(test_data[col])\n",
    "test_data.head()\n"
   ]
  },
  {
   "cell_type": "code",
   "execution_count": 55,
   "id": "6cb41a9e",
   "metadata": {},
   "outputs": [
    {
     "name": "stderr",
     "output_type": "stream",
     "text": [
      "C:\\Users\\Echo\\anaconda3\\lib\\site-packages\\sklearn\\base.py:493: FutureWarning: The feature names should match those that were passed during fit. Starting version 1.2, an error will be raised.\n",
      "Feature names seen at fit time, yet now missing:\n",
      "- acous\n",
      "- bpm\n",
      "- live\n",
      "- val\n",
      "\n",
      "  warnings.warn(message, FutureWarning)\n"
     ]
    },
    {
     "ename": "ValueError",
     "evalue": "X has 6 features, but GradientBoostingRegressor is expecting 10 features as input.",
     "output_type": "error",
     "traceback": [
      "\u001b[1;31m---------------------------------------------------------------------------\u001b[0m",
      "\u001b[1;31mValueError\u001b[0m                                Traceback (most recent call last)",
      "\u001b[1;32m~\\AppData\\Local\\Temp\\ipykernel_12256\\402001613.py\u001b[0m in \u001b[0;36m<module>\u001b[1;34m\u001b[0m\n\u001b[1;32m----> 1\u001b[1;33m \u001b[0mresults\u001b[0m \u001b[1;33m=\u001b[0m \u001b[0mreg_7\u001b[0m\u001b[1;33m.\u001b[0m\u001b[0mpredict\u001b[0m\u001b[1;33m(\u001b[0m\u001b[0mtest_data\u001b[0m\u001b[1;33m)\u001b[0m\u001b[1;33m\u001b[0m\u001b[1;33m\u001b[0m\u001b[0m\n\u001b[0m",
      "\u001b[1;32m~\\anaconda3\\lib\\site-packages\\sklearn\\ensemble\\_gb.py\u001b[0m in \u001b[0;36mpredict\u001b[1;34m(self, X)\u001b[0m\n\u001b[0;32m   1875\u001b[0m             \u001b[0mThe\u001b[0m \u001b[0mpredicted\u001b[0m \u001b[0mvalues\u001b[0m\u001b[1;33m.\u001b[0m\u001b[1;33m\u001b[0m\u001b[1;33m\u001b[0m\u001b[0m\n\u001b[0;32m   1876\u001b[0m         \"\"\"\n\u001b[1;32m-> 1877\u001b[1;33m         X = self._validate_data(\n\u001b[0m\u001b[0;32m   1878\u001b[0m             \u001b[0mX\u001b[0m\u001b[1;33m,\u001b[0m \u001b[0mdtype\u001b[0m\u001b[1;33m=\u001b[0m\u001b[0mDTYPE\u001b[0m\u001b[1;33m,\u001b[0m \u001b[0morder\u001b[0m\u001b[1;33m=\u001b[0m\u001b[1;34m\"C\"\u001b[0m\u001b[1;33m,\u001b[0m \u001b[0maccept_sparse\u001b[0m\u001b[1;33m=\u001b[0m\u001b[1;34m\"csr\"\u001b[0m\u001b[1;33m,\u001b[0m \u001b[0mreset\u001b[0m\u001b[1;33m=\u001b[0m\u001b[1;32mFalse\u001b[0m\u001b[1;33m\u001b[0m\u001b[1;33m\u001b[0m\u001b[0m\n\u001b[0;32m   1879\u001b[0m         )\n",
      "\u001b[1;32m~\\anaconda3\\lib\\site-packages\\sklearn\\base.py\u001b[0m in \u001b[0;36m_validate_data\u001b[1;34m(self, X, y, reset, validate_separately, **check_params)\u001b[0m\n\u001b[0;32m    583\u001b[0m \u001b[1;33m\u001b[0m\u001b[0m\n\u001b[0;32m    584\u001b[0m         \u001b[1;32mif\u001b[0m \u001b[1;32mnot\u001b[0m \u001b[0mno_val_X\u001b[0m \u001b[1;32mand\u001b[0m \u001b[0mcheck_params\u001b[0m\u001b[1;33m.\u001b[0m\u001b[0mget\u001b[0m\u001b[1;33m(\u001b[0m\u001b[1;34m\"ensure_2d\"\u001b[0m\u001b[1;33m,\u001b[0m \u001b[1;32mTrue\u001b[0m\u001b[1;33m)\u001b[0m\u001b[1;33m:\u001b[0m\u001b[1;33m\u001b[0m\u001b[1;33m\u001b[0m\u001b[0m\n\u001b[1;32m--> 585\u001b[1;33m             \u001b[0mself\u001b[0m\u001b[1;33m.\u001b[0m\u001b[0m_check_n_features\u001b[0m\u001b[1;33m(\u001b[0m\u001b[0mX\u001b[0m\u001b[1;33m,\u001b[0m \u001b[0mreset\u001b[0m\u001b[1;33m=\u001b[0m\u001b[0mreset\u001b[0m\u001b[1;33m)\u001b[0m\u001b[1;33m\u001b[0m\u001b[1;33m\u001b[0m\u001b[0m\n\u001b[0m\u001b[0;32m    586\u001b[0m \u001b[1;33m\u001b[0m\u001b[0m\n\u001b[0;32m    587\u001b[0m         \u001b[1;32mreturn\u001b[0m \u001b[0mout\u001b[0m\u001b[1;33m\u001b[0m\u001b[1;33m\u001b[0m\u001b[0m\n",
      "\u001b[1;32m~\\anaconda3\\lib\\site-packages\\sklearn\\base.py\u001b[0m in \u001b[0;36m_check_n_features\u001b[1;34m(self, X, reset)\u001b[0m\n\u001b[0;32m    398\u001b[0m \u001b[1;33m\u001b[0m\u001b[0m\n\u001b[0;32m    399\u001b[0m         \u001b[1;32mif\u001b[0m \u001b[0mn_features\u001b[0m \u001b[1;33m!=\u001b[0m \u001b[0mself\u001b[0m\u001b[1;33m.\u001b[0m\u001b[0mn_features_in_\u001b[0m\u001b[1;33m:\u001b[0m\u001b[1;33m\u001b[0m\u001b[1;33m\u001b[0m\u001b[0m\n\u001b[1;32m--> 400\u001b[1;33m             raise ValueError(\n\u001b[0m\u001b[0;32m    401\u001b[0m                 \u001b[1;34mf\"X has {n_features} features, but {self.__class__.__name__} \"\u001b[0m\u001b[1;33m\u001b[0m\u001b[1;33m\u001b[0m\u001b[0m\n\u001b[0;32m    402\u001b[0m                 \u001b[1;34mf\"is expecting {self.n_features_in_} features as input.\"\u001b[0m\u001b[1;33m\u001b[0m\u001b[1;33m\u001b[0m\u001b[0m\n",
      "\u001b[1;31mValueError\u001b[0m: X has 6 features, but GradientBoostingRegressor is expecting 10 features as input."
     ]
    }
   ],
   "source": [
    "results = reg_7.predict(test_data)"
   ]
  },
  {
   "cell_type": "code",
   "execution_count": null,
   "id": "8768e90f",
   "metadata": {},
   "outputs": [],
   "source": [
    "test_data['Id'] = Id_col"
   ]
  },
  {
   "cell_type": "code",
   "execution_count": null,
   "id": "5df3283f",
   "metadata": {},
   "outputs": [],
   "source": [
    "test_data['pop'] = results"
   ]
  },
  {
   "cell_type": "code",
   "execution_count": null,
   "id": "f87c1283",
   "metadata": {},
   "outputs": [],
   "source": [
    "test_data"
   ]
  },
  {
   "cell_type": "code",
   "execution_count": null,
   "id": "906bd9d9",
   "metadata": {},
   "outputs": [],
   "source": [
    "submission_data = test_data.drop([ 'top genre','nrgy', 'dnce', 'dB', 'dur', 'spch'], axis = 1)"
   ]
  },
  {
   "cell_type": "code",
   "execution_count": null,
   "id": "5c9c3188",
   "metadata": {},
   "outputs": [],
   "source": [
    "submission_data"
   ]
  },
  {
   "cell_type": "code",
   "execution_count": null,
   "id": "e30cc91c",
   "metadata": {},
   "outputs": [],
   "source": [
    "for i in range(submission_data.shape[0]):\n",
    "    submission_data['pop'][i] = round(submission_data['pop'][i], 0).astype(int) "
   ]
  },
  {
   "cell_type": "code",
   "execution_count": null,
   "id": "36b864a3",
   "metadata": {},
   "outputs": [],
   "source": [
    "submission_data"
   ]
  },
  {
   "cell_type": "code",
   "execution_count": null,
   "id": "605397e5",
   "metadata": {},
   "outputs": [],
   "source": [
    "submission_data.set_index('Id')"
   ]
  },
  {
   "cell_type": "code",
   "execution_count": null,
   "id": "5f12f1dc",
   "metadata": {},
   "outputs": [],
   "source": [
    "submission_data.to_csv(\"regression_submission.csv\")"
   ]
  },
  {
   "cell_type": "code",
   "execution_count": null,
   "id": "3799a3ae",
   "metadata": {},
   "outputs": [],
   "source": []
  },
  {
   "cell_type": "code",
   "execution_count": null,
   "id": "86c38fa5",
   "metadata": {},
   "outputs": [],
   "source": []
  }
 ],
 "metadata": {
  "kernelspec": {
   "display_name": "Python 3 (ipykernel)",
   "language": "python",
   "name": "python3"
  },
  "language_info": {
   "codemirror_mode": {
    "name": "ipython",
    "version": 3
   },
   "file_extension": ".py",
   "mimetype": "text/x-python",
   "name": "python",
   "nbconvert_exporter": "python",
   "pygments_lexer": "ipython3",
   "version": "3.9.13"
  }
 },
 "nbformat": 4,
 "nbformat_minor": 5
}
