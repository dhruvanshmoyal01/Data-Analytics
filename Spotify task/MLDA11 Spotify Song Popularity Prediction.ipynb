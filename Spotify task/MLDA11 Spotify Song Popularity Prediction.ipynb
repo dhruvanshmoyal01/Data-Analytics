{
 "cells": [
  {
   "cell_type": "markdown",
   "id": "253fd69e",
   "metadata": {},
   "source": [
    "<h2 align=center>Spotify Song Popularity Prediction</h2>"
   ]
  },
  {
   "cell_type": "markdown",
   "id": "d6b7af0f",
   "metadata": {},
   "source": [
    "\n",
    "\n",
    "**Team Name: MLDA11**:\n",
    "\n",
    "**Team Members:**\n",
    "- Dhruvansh Moyal - 202275395\n",
    "- Srikar Reddy Adaboina - 202261517\n",
    "- Kesava Lahari Gollamudi - 202279618\n",
    "- Vignesh Gopal Gollamudi - 202279917\n",
    "- Sai Krishna Gunti - 202294219\n",
    "- Manoj Sai Lankepalle - 202275395\n"
   ]
  },
  {
   "cell_type": "markdown",
   "id": "a9ea6884",
   "metadata": {},
   "source": [
    "##  Objective: "
   ]
  },
  {
   "cell_type": "markdown",
   "id": "0887458b",
   "metadata": {},
   "source": [
    "Our objective is to create a strong machine learning model that can forecast a song's popularity. As popularity is an integer, the issue will be handled as a regression one. There are 13 more attributes in the dataset that we may use to create our model, ignoring Id and Popularity (referred to as \"pop\")."
   ]
  },
  {
   "cell_type": "markdown",
   "id": "081bf473",
   "metadata": {},
   "source": [
    "### Final Model used:"
   ]
  },
  {
   "cell_type": "markdown",
   "id": "d8538ba5",
   "metadata": {},
   "source": [
    "The final model used by us in this project was a random forest classifier with a max depth of 100 which gave us an root mean square value of 9.18 on training data and 8.25 on testing data. A group of decision trees is called a random forest. This means that a Random Forest is made up of several trees that were built in a certain \"random\" manner. A separate sample of rows are used to build each tree, and a different sample of characteristics are chosen for splitting at each node. Each tree provides a unique forecast on its own. A single outcome is then produced by averaging these forecasts. A major advantage of random forest is that it cannot extrapolate. It means that the target variable's predicted values never deviate from those in the training set. Also to state tuning the parameter on random forest isn't much difficult and hence it became as an easy choice to choose from a varity of models.\n",
    "\n",
    "While studying the data we tried to maintain as much size of it as we could because the size of dataset wasn't much. We even had outliers in our data, removal of which could have resulted in a better performing model and thus even though we would have wanted to conserve our train size we choose to get rid of those outliers."
   ]
  },
  {
   "cell_type": "markdown",
   "id": "ec06bccc",
   "metadata": {},
   "source": [
    "Before starting it is crucial of us to know and show what version of python we are using in this project because not all methods used in this notebook can be used in all version of the python"
   ]
  },
  {
   "cell_type": "code",
   "execution_count": 1,
   "id": "622ebc5b",
   "metadata": {},
   "outputs": [
    {
     "name": "stdout",
     "output_type": "stream",
     "text": [
      "The python version used in this project is 3.9.13\n"
     ]
    }
   ],
   "source": [
    "from platform import python_version\n",
    "\n",
    "print(\"The python version used in this project is\", python_version())"
   ]
  },
  {
   "cell_type": "markdown",
   "id": "1e114679",
   "metadata": {},
   "source": [
    "### 1. Importing libraries"
   ]
  },
  {
   "cell_type": "markdown",
   "id": "ea17cadb",
   "metadata": {},
   "source": [
    "To begin the project we will first import all the necessary libraries which will be used in future. It includes basic libraries such as numpy, pandas, matplotlib and seaborn for basic work for data manipulation, handling and visualizations respectively.\n",
    "\n",
    "Later we also imported a lot of functions from sklearn library which we will use for various tasks such as preprocessing the data, splitting the data from training and testing, making the machine learning models and finally to test the models that we have created."
   ]
  },
  {
   "cell_type": "code",
   "execution_count": 2,
   "id": "add26d51",
   "metadata": {},
   "outputs": [],
   "source": [
    "#importing useful libraries for the task\n",
    "import numpy as np\n",
    "import pandas as pd\n",
    "from matplotlib import pyplot as plt\n",
    "import seaborn as sns\n",
    "\n",
    "# for preprocessing categorical variables\n",
    "from sklearn.preprocessing import LabelEncoder\n",
    "\n",
    "# for splitting training dataset\n",
    "from sklearn.model_selection import train_test_split\n",
    "\n",
    "# for building the models\n",
    "from sklearn import linear_model, svm\n",
    "from sklearn.tree import DecisionTreeRegressor\n",
    "from sklearn.ensemble import RandomForestRegressor, GradientBoostingRegressor, HistGradientBoostingRegressor\n",
    "from sklearn.model_selection import GridSearchCV\n",
    "\n",
    "# for evaluation of the model\n",
    "from sklearn.metrics import r2_score\n",
    "from sklearn.metrics import accuracy_score,confusion_matrix,mean_squared_error,mean_absolute_error,mean_absolute_percentage_error"
   ]
  },
  {
   "cell_type": "markdown",
   "id": "b0aac18d",
   "metadata": {},
   "source": [
    "### 2. Reading training data "
   ]
  },
  {
   "cell_type": "markdown",
   "id": "e65e9a18",
   "metadata": {},
   "source": [
    "Here we read the training data giving to us and start by seeing the first five and last five rows of the data to understand the kind of data we have"
   ]
  },
  {
   "cell_type": "code",
   "execution_count": 3,
   "id": "d39f87eb",
   "metadata": {},
   "outputs": [
    {
     "data": {
      "text/html": [
       "<div>\n",
       "<style scoped>\n",
       "    .dataframe tbody tr th:only-of-type {\n",
       "        vertical-align: middle;\n",
       "    }\n",
       "\n",
       "    .dataframe tbody tr th {\n",
       "        vertical-align: top;\n",
       "    }\n",
       "\n",
       "    .dataframe thead th {\n",
       "        text-align: right;\n",
       "    }\n",
       "</style>\n",
       "<table border=\"1\" class=\"dataframe\">\n",
       "  <thead>\n",
       "    <tr style=\"text-align: right;\">\n",
       "      <th></th>\n",
       "      <th>Id</th>\n",
       "      <th>title</th>\n",
       "      <th>artist</th>\n",
       "      <th>top genre</th>\n",
       "      <th>year</th>\n",
       "      <th>bpm</th>\n",
       "      <th>nrgy</th>\n",
       "      <th>dnce</th>\n",
       "      <th>dB</th>\n",
       "      <th>live</th>\n",
       "      <th>val</th>\n",
       "      <th>dur</th>\n",
       "      <th>acous</th>\n",
       "      <th>spch</th>\n",
       "      <th>pop</th>\n",
       "    </tr>\n",
       "  </thead>\n",
       "  <tbody>\n",
       "    <tr>\n",
       "      <th>0</th>\n",
       "      <td>1</td>\n",
       "      <td>My Happiness</td>\n",
       "      <td>Connie Francis</td>\n",
       "      <td>adult standards</td>\n",
       "      <td>1996</td>\n",
       "      <td>107</td>\n",
       "      <td>31</td>\n",
       "      <td>45</td>\n",
       "      <td>-8</td>\n",
       "      <td>13</td>\n",
       "      <td>28</td>\n",
       "      <td>150</td>\n",
       "      <td>75</td>\n",
       "      <td>3</td>\n",
       "      <td>44</td>\n",
       "    </tr>\n",
       "    <tr>\n",
       "      <th>1</th>\n",
       "      <td>2</td>\n",
       "      <td>Unchained Melody</td>\n",
       "      <td>The Teddy Bears</td>\n",
       "      <td>NaN</td>\n",
       "      <td>2011</td>\n",
       "      <td>114</td>\n",
       "      <td>44</td>\n",
       "      <td>53</td>\n",
       "      <td>-8</td>\n",
       "      <td>13</td>\n",
       "      <td>47</td>\n",
       "      <td>139</td>\n",
       "      <td>49</td>\n",
       "      <td>3</td>\n",
       "      <td>37</td>\n",
       "    </tr>\n",
       "    <tr>\n",
       "      <th>2</th>\n",
       "      <td>3</td>\n",
       "      <td>How Deep Is Your Love</td>\n",
       "      <td>Bee Gees</td>\n",
       "      <td>adult standards</td>\n",
       "      <td>1979</td>\n",
       "      <td>105</td>\n",
       "      <td>36</td>\n",
       "      <td>63</td>\n",
       "      <td>-9</td>\n",
       "      <td>13</td>\n",
       "      <td>67</td>\n",
       "      <td>245</td>\n",
       "      <td>11</td>\n",
       "      <td>3</td>\n",
       "      <td>77</td>\n",
       "    </tr>\n",
       "    <tr>\n",
       "      <th>3</th>\n",
       "      <td>4</td>\n",
       "      <td>Woman in Love</td>\n",
       "      <td>Barbra Streisand</td>\n",
       "      <td>adult standards</td>\n",
       "      <td>1980</td>\n",
       "      <td>170</td>\n",
       "      <td>28</td>\n",
       "      <td>47</td>\n",
       "      <td>-16</td>\n",
       "      <td>13</td>\n",
       "      <td>33</td>\n",
       "      <td>232</td>\n",
       "      <td>25</td>\n",
       "      <td>3</td>\n",
       "      <td>67</td>\n",
       "    </tr>\n",
       "    <tr>\n",
       "      <th>4</th>\n",
       "      <td>5</td>\n",
       "      <td>Goodbye Yellow Brick Road - Remastered 2014</td>\n",
       "      <td>Elton John</td>\n",
       "      <td>glam rock</td>\n",
       "      <td>1973</td>\n",
       "      <td>121</td>\n",
       "      <td>47</td>\n",
       "      <td>56</td>\n",
       "      <td>-8</td>\n",
       "      <td>15</td>\n",
       "      <td>40</td>\n",
       "      <td>193</td>\n",
       "      <td>45</td>\n",
       "      <td>3</td>\n",
       "      <td>63</td>\n",
       "    </tr>\n",
       "  </tbody>\n",
       "</table>\n",
       "</div>"
      ],
      "text/plain": [
       "   Id                                        title            artist  \\\n",
       "0   1                                 My Happiness    Connie Francis   \n",
       "1   2                             Unchained Melody   The Teddy Bears   \n",
       "2   3                        How Deep Is Your Love          Bee Gees   \n",
       "3   4                                Woman in Love  Barbra Streisand   \n",
       "4   5  Goodbye Yellow Brick Road - Remastered 2014        Elton John   \n",
       "\n",
       "         top genre  year  bpm  nrgy  dnce  dB  live  val  dur  acous  spch  \\\n",
       "0  adult standards  1996  107    31    45  -8    13   28  150     75     3   \n",
       "1              NaN  2011  114    44    53  -8    13   47  139     49     3   \n",
       "2  adult standards  1979  105    36    63  -9    13   67  245     11     3   \n",
       "3  adult standards  1980  170    28    47 -16    13   33  232     25     3   \n",
       "4        glam rock  1973  121    47    56  -8    15   40  193     45     3   \n",
       "\n",
       "   pop  \n",
       "0   44  \n",
       "1   37  \n",
       "2   77  \n",
       "3   67  \n",
       "4   63  "
      ]
     },
     "execution_count": 3,
     "metadata": {},
     "output_type": "execute_result"
    }
   ],
   "source": [
    "train_data = pd.read_csv('CS98XRegressionTrain.csv')\n",
    "train_data.head()"
   ]
  },
  {
   "cell_type": "code",
   "execution_count": 4,
   "id": "5d694511",
   "metadata": {},
   "outputs": [
    {
     "data": {
      "text/html": [
       "<div>\n",
       "<style scoped>\n",
       "    .dataframe tbody tr th:only-of-type {\n",
       "        vertical-align: middle;\n",
       "    }\n",
       "\n",
       "    .dataframe tbody tr th {\n",
       "        vertical-align: top;\n",
       "    }\n",
       "\n",
       "    .dataframe thead th {\n",
       "        text-align: right;\n",
       "    }\n",
       "</style>\n",
       "<table border=\"1\" class=\"dataframe\">\n",
       "  <thead>\n",
       "    <tr style=\"text-align: right;\">\n",
       "      <th></th>\n",
       "      <th>Id</th>\n",
       "      <th>title</th>\n",
       "      <th>artist</th>\n",
       "      <th>top genre</th>\n",
       "      <th>year</th>\n",
       "      <th>bpm</th>\n",
       "      <th>nrgy</th>\n",
       "      <th>dnce</th>\n",
       "      <th>dB</th>\n",
       "      <th>live</th>\n",
       "      <th>val</th>\n",
       "      <th>dur</th>\n",
       "      <th>acous</th>\n",
       "      <th>spch</th>\n",
       "      <th>pop</th>\n",
       "    </tr>\n",
       "  </thead>\n",
       "  <tbody>\n",
       "    <tr>\n",
       "      <th>448</th>\n",
       "      <td>449</td>\n",
       "      <td>But Not For Me</td>\n",
       "      <td>Ella Fitzgerald</td>\n",
       "      <td>adult standards</td>\n",
       "      <td>1959</td>\n",
       "      <td>80</td>\n",
       "      <td>22</td>\n",
       "      <td>18</td>\n",
       "      <td>-17</td>\n",
       "      <td>10</td>\n",
       "      <td>16</td>\n",
       "      <td>214</td>\n",
       "      <td>92</td>\n",
       "      <td>4</td>\n",
       "      <td>45</td>\n",
       "    </tr>\n",
       "    <tr>\n",
       "      <th>449</th>\n",
       "      <td>450</td>\n",
       "      <td>Surf City</td>\n",
       "      <td>Jan &amp; Dean</td>\n",
       "      <td>brill building pop</td>\n",
       "      <td>2010</td>\n",
       "      <td>148</td>\n",
       "      <td>81</td>\n",
       "      <td>53</td>\n",
       "      <td>-13</td>\n",
       "      <td>23</td>\n",
       "      <td>96</td>\n",
       "      <td>147</td>\n",
       "      <td>50</td>\n",
       "      <td>3</td>\n",
       "      <td>50</td>\n",
       "    </tr>\n",
       "    <tr>\n",
       "      <th>450</th>\n",
       "      <td>451</td>\n",
       "      <td>Dilemma</td>\n",
       "      <td>Nelly</td>\n",
       "      <td>dance pop</td>\n",
       "      <td>2002</td>\n",
       "      <td>168</td>\n",
       "      <td>55</td>\n",
       "      <td>73</td>\n",
       "      <td>-8</td>\n",
       "      <td>20</td>\n",
       "      <td>61</td>\n",
       "      <td>289</td>\n",
       "      <td>23</td>\n",
       "      <td>14</td>\n",
       "      <td>77</td>\n",
       "    </tr>\n",
       "    <tr>\n",
       "      <th>451</th>\n",
       "      <td>452</td>\n",
       "      <td>It's Gonna Be Me</td>\n",
       "      <td>*NSYNC</td>\n",
       "      <td>boy band</td>\n",
       "      <td>2000</td>\n",
       "      <td>165</td>\n",
       "      <td>87</td>\n",
       "      <td>64</td>\n",
       "      <td>-5</td>\n",
       "      <td>6</td>\n",
       "      <td>88</td>\n",
       "      <td>191</td>\n",
       "      <td>5</td>\n",
       "      <td>8</td>\n",
       "      <td>62</td>\n",
       "    </tr>\n",
       "    <tr>\n",
       "      <th>452</th>\n",
       "      <td>453</td>\n",
       "      <td>In The Army Now</td>\n",
       "      <td>Status Quo</td>\n",
       "      <td>album rock</td>\n",
       "      <td>2002</td>\n",
       "      <td>105</td>\n",
       "      <td>73</td>\n",
       "      <td>68</td>\n",
       "      <td>-8</td>\n",
       "      <td>14</td>\n",
       "      <td>94</td>\n",
       "      <td>281</td>\n",
       "      <td>11</td>\n",
       "      <td>2</td>\n",
       "      <td>59</td>\n",
       "    </tr>\n",
       "  </tbody>\n",
       "</table>\n",
       "</div>"
      ],
      "text/plain": [
       "      Id             title           artist           top genre  year  bpm  \\\n",
       "448  449    But Not For Me  Ella Fitzgerald     adult standards  1959   80   \n",
       "449  450         Surf City       Jan & Dean  brill building pop  2010  148   \n",
       "450  451           Dilemma            Nelly           dance pop  2002  168   \n",
       "451  452  It's Gonna Be Me           *NSYNC            boy band  2000  165   \n",
       "452  453   In The Army Now       Status Quo          album rock  2002  105   \n",
       "\n",
       "     nrgy  dnce  dB  live  val  dur  acous  spch  pop  \n",
       "448    22    18 -17    10   16  214     92     4   45  \n",
       "449    81    53 -13    23   96  147     50     3   50  \n",
       "450    55    73  -8    20   61  289     23    14   77  \n",
       "451    87    64  -5     6   88  191      5     8   62  \n",
       "452    73    68  -8    14   94  281     11     2   59  "
      ]
     },
     "execution_count": 4,
     "metadata": {},
     "output_type": "execute_result"
    }
   ],
   "source": [
    "train_data.tail()"
   ]
  },
  {
   "cell_type": "code",
   "execution_count": 5,
   "id": "eff0acf5",
   "metadata": {},
   "outputs": [
    {
     "name": "stdout",
     "output_type": "stream",
     "text": [
      "Our dataset has 453 rows and 15 columns\n"
     ]
    }
   ],
   "source": [
    "rows, columns = train_data.shape\n",
    "print('Our dataset has {} rows and {} columns'.format(rows, columns))"
   ]
  },
  {
   "cell_type": "code",
   "execution_count": 6,
   "id": "e7c4078b",
   "metadata": {},
   "outputs": [
    {
     "name": "stdout",
     "output_type": "stream",
     "text": [
      "List of columns in dataset: \n",
      "Id\n",
      "title\n",
      "artist\n",
      "top genre\n",
      "year\n",
      "bpm\n",
      "nrgy\n",
      "dnce\n",
      "dB\n",
      "live\n",
      "val\n",
      "dur\n",
      "acous\n",
      "spch\n",
      "pop\n"
     ]
    }
   ],
   "source": [
    "# printing all column names \n",
    "cols = list(train_data.columns.values)\n",
    "print(\"List of columns in dataset: \")\n",
    "for i in range(len(cols)):\n",
    "    print(cols[i])"
   ]
  },
  {
   "cell_type": "code",
   "execution_count": 7,
   "id": "526c97b9",
   "metadata": {},
   "outputs": [
    {
     "name": "stdout",
     "output_type": "stream",
     "text": [
      "<class 'pandas.core.frame.DataFrame'>\n",
      "RangeIndex: 453 entries, 0 to 452\n",
      "Data columns (total 15 columns):\n",
      " #   Column     Non-Null Count  Dtype \n",
      "---  ------     --------------  ----- \n",
      " 0   Id         453 non-null    int64 \n",
      " 1   title      453 non-null    object\n",
      " 2   artist     453 non-null    object\n",
      " 3   top genre  438 non-null    object\n",
      " 4   year       453 non-null    int64 \n",
      " 5   bpm        453 non-null    int64 \n",
      " 6   nrgy       453 non-null    int64 \n",
      " 7   dnce       453 non-null    int64 \n",
      " 8   dB         453 non-null    int64 \n",
      " 9   live       453 non-null    int64 \n",
      " 10  val        453 non-null    int64 \n",
      " 11  dur        453 non-null    int64 \n",
      " 12  acous      453 non-null    int64 \n",
      " 13  spch       453 non-null    int64 \n",
      " 14  pop        453 non-null    int64 \n",
      "dtypes: int64(12), object(3)\n",
      "memory usage: 53.2+ KB\n"
     ]
    }
   ],
   "source": [
    "# getiing column info\n",
    "train_data.info()"
   ]
  },
  {
   "cell_type": "markdown",
   "id": "98071bbf",
   "metadata": {},
   "source": [
    "### 3. Performing Data Cleaning ( Data Wrangling )"
   ]
  },
  {
   "cell_type": "markdown",
   "id": "6f2160a6",
   "metadata": {},
   "source": [
    "An essential first stage in the data analytics process is data cleaning, commonly referred to as data cleansing or data wrangling. Typically, this critical practise comes before your primary analysis and entails gathering and validating data. Although this is frequently a component of data cleansing, it is not the only method. The bulk of the effort is put on finding rogue data and (when feasible) fixing it. The outcomes of our analysis will be impacted if we don't get rid of it. Results from data analysis must be accurate since they are frequently utilised to guide business choices. It would seem safer in this situation to just eliminate the missing data."
   ]
  },
  {
   "cell_type": "markdown",
   "id": "14ee3ec3",
   "metadata": {},
   "source": [
    "Removing a Few column which do not give much info about genre. Columns such as Id which is unique for every song, title which is the name of the song, artist which is the performer of the song and year which gives us the information of when that song was released do not give us much information about the genre of the song. Although artist could give us a rough idea because many a times a artist makes only one type of songs (songs belonging to a single genre) but so isn't always true. Also our dataset has such wide variety of artists that involving them would not help us yeild a good machine learning model in future. So it is common sense for use to drop it along with \"ID\", \"title\" and \"year\" columns."
   ]
  },
  {
   "cell_type": "code",
   "execution_count": 8,
   "id": "a88df058",
   "metadata": {},
   "outputs": [
    {
     "data": {
      "text/html": [
       "<div>\n",
       "<style scoped>\n",
       "    .dataframe tbody tr th:only-of-type {\n",
       "        vertical-align: middle;\n",
       "    }\n",
       "\n",
       "    .dataframe tbody tr th {\n",
       "        vertical-align: top;\n",
       "    }\n",
       "\n",
       "    .dataframe thead th {\n",
       "        text-align: right;\n",
       "    }\n",
       "</style>\n",
       "<table border=\"1\" class=\"dataframe\">\n",
       "  <thead>\n",
       "    <tr style=\"text-align: right;\">\n",
       "      <th></th>\n",
       "      <th>top genre</th>\n",
       "      <th>bpm</th>\n",
       "      <th>nrgy</th>\n",
       "      <th>dnce</th>\n",
       "      <th>dB</th>\n",
       "      <th>live</th>\n",
       "      <th>val</th>\n",
       "      <th>dur</th>\n",
       "      <th>acous</th>\n",
       "      <th>spch</th>\n",
       "      <th>pop</th>\n",
       "    </tr>\n",
       "  </thead>\n",
       "  <tbody>\n",
       "    <tr>\n",
       "      <th>0</th>\n",
       "      <td>adult standards</td>\n",
       "      <td>107</td>\n",
       "      <td>31</td>\n",
       "      <td>45</td>\n",
       "      <td>-8</td>\n",
       "      <td>13</td>\n",
       "      <td>28</td>\n",
       "      <td>150</td>\n",
       "      <td>75</td>\n",
       "      <td>3</td>\n",
       "      <td>44</td>\n",
       "    </tr>\n",
       "    <tr>\n",
       "      <th>1</th>\n",
       "      <td>NaN</td>\n",
       "      <td>114</td>\n",
       "      <td>44</td>\n",
       "      <td>53</td>\n",
       "      <td>-8</td>\n",
       "      <td>13</td>\n",
       "      <td>47</td>\n",
       "      <td>139</td>\n",
       "      <td>49</td>\n",
       "      <td>3</td>\n",
       "      <td>37</td>\n",
       "    </tr>\n",
       "    <tr>\n",
       "      <th>2</th>\n",
       "      <td>adult standards</td>\n",
       "      <td>105</td>\n",
       "      <td>36</td>\n",
       "      <td>63</td>\n",
       "      <td>-9</td>\n",
       "      <td>13</td>\n",
       "      <td>67</td>\n",
       "      <td>245</td>\n",
       "      <td>11</td>\n",
       "      <td>3</td>\n",
       "      <td>77</td>\n",
       "    </tr>\n",
       "    <tr>\n",
       "      <th>3</th>\n",
       "      <td>adult standards</td>\n",
       "      <td>170</td>\n",
       "      <td>28</td>\n",
       "      <td>47</td>\n",
       "      <td>-16</td>\n",
       "      <td>13</td>\n",
       "      <td>33</td>\n",
       "      <td>232</td>\n",
       "      <td>25</td>\n",
       "      <td>3</td>\n",
       "      <td>67</td>\n",
       "    </tr>\n",
       "    <tr>\n",
       "      <th>4</th>\n",
       "      <td>glam rock</td>\n",
       "      <td>121</td>\n",
       "      <td>47</td>\n",
       "      <td>56</td>\n",
       "      <td>-8</td>\n",
       "      <td>15</td>\n",
       "      <td>40</td>\n",
       "      <td>193</td>\n",
       "      <td>45</td>\n",
       "      <td>3</td>\n",
       "      <td>63</td>\n",
       "    </tr>\n",
       "    <tr>\n",
       "      <th>...</th>\n",
       "      <td>...</td>\n",
       "      <td>...</td>\n",
       "      <td>...</td>\n",
       "      <td>...</td>\n",
       "      <td>...</td>\n",
       "      <td>...</td>\n",
       "      <td>...</td>\n",
       "      <td>...</td>\n",
       "      <td>...</td>\n",
       "      <td>...</td>\n",
       "      <td>...</td>\n",
       "    </tr>\n",
       "    <tr>\n",
       "      <th>448</th>\n",
       "      <td>adult standards</td>\n",
       "      <td>80</td>\n",
       "      <td>22</td>\n",
       "      <td>18</td>\n",
       "      <td>-17</td>\n",
       "      <td>10</td>\n",
       "      <td>16</td>\n",
       "      <td>214</td>\n",
       "      <td>92</td>\n",
       "      <td>4</td>\n",
       "      <td>45</td>\n",
       "    </tr>\n",
       "    <tr>\n",
       "      <th>449</th>\n",
       "      <td>brill building pop</td>\n",
       "      <td>148</td>\n",
       "      <td>81</td>\n",
       "      <td>53</td>\n",
       "      <td>-13</td>\n",
       "      <td>23</td>\n",
       "      <td>96</td>\n",
       "      <td>147</td>\n",
       "      <td>50</td>\n",
       "      <td>3</td>\n",
       "      <td>50</td>\n",
       "    </tr>\n",
       "    <tr>\n",
       "      <th>450</th>\n",
       "      <td>dance pop</td>\n",
       "      <td>168</td>\n",
       "      <td>55</td>\n",
       "      <td>73</td>\n",
       "      <td>-8</td>\n",
       "      <td>20</td>\n",
       "      <td>61</td>\n",
       "      <td>289</td>\n",
       "      <td>23</td>\n",
       "      <td>14</td>\n",
       "      <td>77</td>\n",
       "    </tr>\n",
       "    <tr>\n",
       "      <th>451</th>\n",
       "      <td>boy band</td>\n",
       "      <td>165</td>\n",
       "      <td>87</td>\n",
       "      <td>64</td>\n",
       "      <td>-5</td>\n",
       "      <td>6</td>\n",
       "      <td>88</td>\n",
       "      <td>191</td>\n",
       "      <td>5</td>\n",
       "      <td>8</td>\n",
       "      <td>62</td>\n",
       "    </tr>\n",
       "    <tr>\n",
       "      <th>452</th>\n",
       "      <td>album rock</td>\n",
       "      <td>105</td>\n",
       "      <td>73</td>\n",
       "      <td>68</td>\n",
       "      <td>-8</td>\n",
       "      <td>14</td>\n",
       "      <td>94</td>\n",
       "      <td>281</td>\n",
       "      <td>11</td>\n",
       "      <td>2</td>\n",
       "      <td>59</td>\n",
       "    </tr>\n",
       "  </tbody>\n",
       "</table>\n",
       "<p>453 rows × 11 columns</p>\n",
       "</div>"
      ],
      "text/plain": [
       "              top genre  bpm  nrgy  dnce  dB  live  val  dur  acous  spch  pop\n",
       "0       adult standards  107    31    45  -8    13   28  150     75     3   44\n",
       "1                   NaN  114    44    53  -8    13   47  139     49     3   37\n",
       "2       adult standards  105    36    63  -9    13   67  245     11     3   77\n",
       "3       adult standards  170    28    47 -16    13   33  232     25     3   67\n",
       "4             glam rock  121    47    56  -8    15   40  193     45     3   63\n",
       "..                  ...  ...   ...   ...  ..   ...  ...  ...    ...   ...  ...\n",
       "448     adult standards   80    22    18 -17    10   16  214     92     4   45\n",
       "449  brill building pop  148    81    53 -13    23   96  147     50     3   50\n",
       "450           dance pop  168    55    73  -8    20   61  289     23    14   77\n",
       "451            boy band  165    87    64  -5     6   88  191      5     8   62\n",
       "452          album rock  105    73    68  -8    14   94  281     11     2   59\n",
       "\n",
       "[453 rows x 11 columns]"
      ]
     },
     "execution_count": 8,
     "metadata": {},
     "output_type": "execute_result"
    }
   ],
   "source": [
    "train_data = train_data.drop(['Id', 'title', 'artist', 'year'], axis = 1)\n",
    "train_data"
   ]
  },
  {
   "cell_type": "markdown",
   "id": "2d07fcda",
   "metadata": {},
   "source": [
    "Now we will check for null or na values in our dataset. It is crucial because if we let it pass right now it will create problems for us in future. Whether it could be about missing data or machine learning model not able to identify or process those observations. So we will find and remove them.\n",
    "\n",
    "Generally there are two classic ways of dealing with missing data, that is, either to remove it or to replace it with suitable data. Since in our case the missing data is from our target column and also the amout of missing data is fairly very low, we chose to remove those tuples because replacing them with data we find comfortable with might affect the final accuracy of the model."
   ]
  },
  {
   "cell_type": "code",
   "execution_count": 9,
   "id": "369f3d7c",
   "metadata": {},
   "outputs": [
    {
     "data": {
      "text/plain": [
       "top genre     True\n",
       "bpm          False\n",
       "nrgy         False\n",
       "dnce         False\n",
       "dB           False\n",
       "live         False\n",
       "val          False\n",
       "dur          False\n",
       "acous        False\n",
       "spch         False\n",
       "pop          False\n",
       "dtype: bool"
      ]
     },
     "execution_count": 9,
     "metadata": {},
     "output_type": "execute_result"
    }
   ],
   "source": [
    "# finding NA or NUll values\n",
    "train_data[:].isna().any()"
   ]
  },
  {
   "cell_type": "code",
   "execution_count": 10,
   "id": "dda1daf2",
   "metadata": {},
   "outputs": [
    {
     "data": {
      "text/plain": [
       "top genre    15\n",
       "bpm           0\n",
       "nrgy          0\n",
       "dnce          0\n",
       "dB            0\n",
       "live          0\n",
       "val           0\n",
       "dur           0\n",
       "acous         0\n",
       "spch          0\n",
       "pop           0\n",
       "dtype: int64"
      ]
     },
     "execution_count": 10,
     "metadata": {},
     "output_type": "execute_result"
    }
   ],
   "source": [
    "# checking the number of missing observation in each column\n",
    "train_data.isnull().sum()"
   ]
  },
  {
   "cell_type": "code",
   "execution_count": 11,
   "id": "34708af0",
   "metadata": {},
   "outputs": [],
   "source": [
    "# droping the tuple with missing genres\n",
    "train_data = train_data.dropna()"
   ]
  },
  {
   "cell_type": "code",
   "execution_count": 12,
   "id": "cafcf852",
   "metadata": {},
   "outputs": [
    {
     "name": "stdout",
     "output_type": "stream",
     "text": [
      "Dataset after removing missing data tuple consists of 438 rows and 11 columns\n"
     ]
    }
   ],
   "source": [
    "rows, columns = train_data.shape\n",
    "print('Dataset after removing missing data tuple consists of {} rows and {} columns'.format(rows, columns))"
   ]
  },
  {
   "cell_type": "markdown",
   "id": "9fe587dc",
   "metadata": {},
   "source": [
    "### 4. Performing EDA "
   ]
  },
  {
   "cell_type": "markdown",
   "id": "d7503b5a",
   "metadata": {},
   "source": [
    "Now we will move on to perform the exploratory data analysis for our training data. It is a crucial step because it helps us understand our dataset even more. Understanding the data first and attempting to glean as many insights from it as possible is a smart strategy. Before using the data in question, EDA focuses on making sense of it."
   ]
  },
  {
   "cell_type": "code",
   "execution_count": 13,
   "id": "83c3608b",
   "metadata": {},
   "outputs": [
    {
     "data": {
      "text/html": [
       "<div>\n",
       "<style scoped>\n",
       "    .dataframe tbody tr th:only-of-type {\n",
       "        vertical-align: middle;\n",
       "    }\n",
       "\n",
       "    .dataframe tbody tr th {\n",
       "        vertical-align: top;\n",
       "    }\n",
       "\n",
       "    .dataframe thead th {\n",
       "        text-align: right;\n",
       "    }\n",
       "</style>\n",
       "<table border=\"1\" class=\"dataframe\">\n",
       "  <thead>\n",
       "    <tr style=\"text-align: right;\">\n",
       "      <th></th>\n",
       "      <th>bpm</th>\n",
       "      <th>nrgy</th>\n",
       "      <th>dnce</th>\n",
       "      <th>dB</th>\n",
       "      <th>live</th>\n",
       "      <th>val</th>\n",
       "      <th>dur</th>\n",
       "      <th>acous</th>\n",
       "      <th>spch</th>\n",
       "      <th>pop</th>\n",
       "    </tr>\n",
       "  </thead>\n",
       "  <tbody>\n",
       "    <tr>\n",
       "      <th>count</th>\n",
       "      <td>438.000000</td>\n",
       "      <td>438.000000</td>\n",
       "      <td>438.000000</td>\n",
       "      <td>438.000000</td>\n",
       "      <td>438.000000</td>\n",
       "      <td>438.000000</td>\n",
       "      <td>438.000000</td>\n",
       "      <td>438.000000</td>\n",
       "      <td>438.000000</td>\n",
       "      <td>438.000000</td>\n",
       "    </tr>\n",
       "    <tr>\n",
       "      <th>mean</th>\n",
       "      <td>118.326484</td>\n",
       "      <td>60.504566</td>\n",
       "      <td>59.780822</td>\n",
       "      <td>-8.787671</td>\n",
       "      <td>17.605023</td>\n",
       "      <td>59.625571</td>\n",
       "      <td>228.267123</td>\n",
       "      <td>32.191781</td>\n",
       "      <td>5.671233</td>\n",
       "      <td>61.557078</td>\n",
       "    </tr>\n",
       "    <tr>\n",
       "      <th>std</th>\n",
       "      <td>25.175735</td>\n",
       "      <td>22.089660</td>\n",
       "      <td>15.404757</td>\n",
       "      <td>3.591005</td>\n",
       "      <td>13.807492</td>\n",
       "      <td>24.480160</td>\n",
       "      <td>63.426812</td>\n",
       "      <td>29.279912</td>\n",
       "      <td>5.571392</td>\n",
       "      <td>12.759353</td>\n",
       "    </tr>\n",
       "    <tr>\n",
       "      <th>min</th>\n",
       "      <td>62.000000</td>\n",
       "      <td>7.000000</td>\n",
       "      <td>18.000000</td>\n",
       "      <td>-24.000000</td>\n",
       "      <td>2.000000</td>\n",
       "      <td>6.000000</td>\n",
       "      <td>98.000000</td>\n",
       "      <td>0.000000</td>\n",
       "      <td>2.000000</td>\n",
       "      <td>26.000000</td>\n",
       "    </tr>\n",
       "    <tr>\n",
       "      <th>25%</th>\n",
       "      <td>100.000000</td>\n",
       "      <td>44.000000</td>\n",
       "      <td>50.000000</td>\n",
       "      <td>-11.000000</td>\n",
       "      <td>9.000000</td>\n",
       "      <td>42.250000</td>\n",
       "      <td>184.500000</td>\n",
       "      <td>7.000000</td>\n",
       "      <td>3.000000</td>\n",
       "      <td>54.000000</td>\n",
       "    </tr>\n",
       "    <tr>\n",
       "      <th>50%</th>\n",
       "      <td>120.000000</td>\n",
       "      <td>64.000000</td>\n",
       "      <td>62.000000</td>\n",
       "      <td>-8.000000</td>\n",
       "      <td>13.000000</td>\n",
       "      <td>61.000000</td>\n",
       "      <td>224.000000</td>\n",
       "      <td>23.000000</td>\n",
       "      <td>4.000000</td>\n",
       "      <td>64.000000</td>\n",
       "    </tr>\n",
       "    <tr>\n",
       "      <th>75%</th>\n",
       "      <td>133.000000</td>\n",
       "      <td>78.000000</td>\n",
       "      <td>70.750000</td>\n",
       "      <td>-6.000000</td>\n",
       "      <td>23.000000</td>\n",
       "      <td>80.000000</td>\n",
       "      <td>264.000000</td>\n",
       "      <td>57.000000</td>\n",
       "      <td>6.000000</td>\n",
       "      <td>72.000000</td>\n",
       "    </tr>\n",
       "    <tr>\n",
       "      <th>max</th>\n",
       "      <td>199.000000</td>\n",
       "      <td>100.000000</td>\n",
       "      <td>96.000000</td>\n",
       "      <td>-1.000000</td>\n",
       "      <td>93.000000</td>\n",
       "      <td>99.000000</td>\n",
       "      <td>511.000000</td>\n",
       "      <td>99.000000</td>\n",
       "      <td>47.000000</td>\n",
       "      <td>84.000000</td>\n",
       "    </tr>\n",
       "  </tbody>\n",
       "</table>\n",
       "</div>"
      ],
      "text/plain": [
       "              bpm        nrgy        dnce          dB        live         val  \\\n",
       "count  438.000000  438.000000  438.000000  438.000000  438.000000  438.000000   \n",
       "mean   118.326484   60.504566   59.780822   -8.787671   17.605023   59.625571   \n",
       "std     25.175735   22.089660   15.404757    3.591005   13.807492   24.480160   \n",
       "min     62.000000    7.000000   18.000000  -24.000000    2.000000    6.000000   \n",
       "25%    100.000000   44.000000   50.000000  -11.000000    9.000000   42.250000   \n",
       "50%    120.000000   64.000000   62.000000   -8.000000   13.000000   61.000000   \n",
       "75%    133.000000   78.000000   70.750000   -6.000000   23.000000   80.000000   \n",
       "max    199.000000  100.000000   96.000000   -1.000000   93.000000   99.000000   \n",
       "\n",
       "              dur       acous        spch         pop  \n",
       "count  438.000000  438.000000  438.000000  438.000000  \n",
       "mean   228.267123   32.191781    5.671233   61.557078  \n",
       "std     63.426812   29.279912    5.571392   12.759353  \n",
       "min     98.000000    0.000000    2.000000   26.000000  \n",
       "25%    184.500000    7.000000    3.000000   54.000000  \n",
       "50%    224.000000   23.000000    4.000000   64.000000  \n",
       "75%    264.000000   57.000000    6.000000   72.000000  \n",
       "max    511.000000   99.000000   47.000000   84.000000  "
      ]
     },
     "execution_count": 13,
     "metadata": {},
     "output_type": "execute_result"
    }
   ],
   "source": [
    "# getting statistical information of numerical columns\n",
    "train_data.describe()"
   ]
  },
  {
   "cell_type": "markdown",
   "id": "dedd9db6",
   "metadata": {},
   "source": [
    "Now we will move onto encoding our categorical data to numerical figures. It is important because our machine learning algorithm does not work with categorical variable. It only works with numerical data. Thus we will use lable encoder from sklearn library to encode our categorical variable to numerical values. \n",
    "\n",
    "Label encoding, which relies on number sequencing, might provide a new issue depending on the data values and type. The issue with employing numbers is that they promote comparison and relationship between them. Although there appears to be no correlation between different genres, one can conclude from the numbers that some genres are more important than others. The algorithm can mistakenly believe that the data has a hierarchy and might favour genres with greater numbers. The label encoder spares us from this issue since it does not give hierarchy any preference when assigning numbers."
   ]
  },
  {
   "cell_type": "code",
   "execution_count": 14,
   "id": "3d1a10e7",
   "metadata": {},
   "outputs": [
    {
     "name": "stdout",
     "output_type": "stream",
     "text": [
      "top genre :  ['adult standards' 'glam rock' 'pop' 'album rock' 'boy band'\n",
      " 'brill building pop' 'rock-and-roll' 'country rock' 'canadian pop'\n",
      " 'dance pop' 'europop' 'bebop' 'art rock' 'disco' 'blues' 'barbadian pop'\n",
      " 'deep adult standards' 'deep house' 'atl hip hop' 'dance rock'\n",
      " 'disco house' 'bubblegum dance' 'classic soul' 'classic uk pop'\n",
      " 'east coast hip hop' 'doo-wop' 'britpop' 'british blues' 'soft rock'\n",
      " 'australian talent show' 'art pop' 'british soul' 'british invasion'\n",
      " 'belgian pop' 'big room' 'german dance' 'italian pop' 'british folk'\n",
      " 'brit funk' 'chicago soul' 'neo mellow' 'british comedy' 'hip hop'\n",
      " 'new wave pop' 'eurodance' 'detroit hip hop' 'classic rock' 'uk garage'\n",
      " 'afrobeat' 'r&b' 'chicago rap' 'classic danish pop' 'british dance band'\n",
      " 'drone folk' 'permanent wave' 'merseybeat' 'g funk' 'blues rock'\n",
      " 'celtic rock' 'bow pop' 'australian rock' 'boogaloo' 'alternative metal'\n",
      " 'belgian dance' 'glam metal' 'latin' 'baroque pop' 'bubble trance'\n",
      " 'canadian folk' 'american folk revival' 'country' 'chanson'\n",
      " 'bubblegum pop' 'classic girl group' 'yodeling' 'afropop' 'hi-nrg'\n",
      " 'louisiana blues' 'hip pop' 'mellow gold' 'avant-garde jazz'\n",
      " 'bronx hip hop' 'glam punk' 'german alternative rock' 'acoustic blues'\n",
      " 'alternative rock'] \n",
      "\n"
     ]
    }
   ],
   "source": [
    "textual_data = ['top genre']\n",
    "\n",
    "for col in textual_data:\n",
    "    print(col, \": \", train_data[col].unique(), \"\\n\")"
   ]
  },
  {
   "cell_type": "code",
   "execution_count": 15,
   "id": "e516516d",
   "metadata": {},
   "outputs": [
    {
     "name": "stderr",
     "output_type": "stream",
     "text": [
      "C:\\Users\\Echo\\AppData\\Local\\Temp\\ipykernel_16168\\271664210.py:4: SettingWithCopyWarning: \n",
      "A value is trying to be set on a copy of a slice from a DataFrame.\n",
      "Try using .loc[row_indexer,col_indexer] = value instead\n",
      "\n",
      "See the caveats in the documentation: https://pandas.pydata.org/pandas-docs/stable/user_guide/indexing.html#returning-a-view-versus-a-copy\n",
      "  train_data[col] = encoder.fit_transform(train_data[col])\n"
     ]
    },
    {
     "data": {
      "text/html": [
       "<div>\n",
       "<style scoped>\n",
       "    .dataframe tbody tr th:only-of-type {\n",
       "        vertical-align: middle;\n",
       "    }\n",
       "\n",
       "    .dataframe tbody tr th {\n",
       "        vertical-align: top;\n",
       "    }\n",
       "\n",
       "    .dataframe thead th {\n",
       "        text-align: right;\n",
       "    }\n",
       "</style>\n",
       "<table border=\"1\" class=\"dataframe\">\n",
       "  <thead>\n",
       "    <tr style=\"text-align: right;\">\n",
       "      <th></th>\n",
       "      <th>top genre</th>\n",
       "      <th>bpm</th>\n",
       "      <th>nrgy</th>\n",
       "      <th>dnce</th>\n",
       "      <th>dB</th>\n",
       "      <th>live</th>\n",
       "      <th>val</th>\n",
       "      <th>dur</th>\n",
       "      <th>acous</th>\n",
       "      <th>spch</th>\n",
       "      <th>pop</th>\n",
       "    </tr>\n",
       "  </thead>\n",
       "  <tbody>\n",
       "    <tr>\n",
       "      <th>0</th>\n",
       "      <td>1</td>\n",
       "      <td>107</td>\n",
       "      <td>31</td>\n",
       "      <td>45</td>\n",
       "      <td>-8</td>\n",
       "      <td>13</td>\n",
       "      <td>28</td>\n",
       "      <td>150</td>\n",
       "      <td>75</td>\n",
       "      <td>3</td>\n",
       "      <td>44</td>\n",
       "    </tr>\n",
       "    <tr>\n",
       "      <th>2</th>\n",
       "      <td>1</td>\n",
       "      <td>105</td>\n",
       "      <td>36</td>\n",
       "      <td>63</td>\n",
       "      <td>-9</td>\n",
       "      <td>13</td>\n",
       "      <td>67</td>\n",
       "      <td>245</td>\n",
       "      <td>11</td>\n",
       "      <td>3</td>\n",
       "      <td>77</td>\n",
       "    </tr>\n",
       "    <tr>\n",
       "      <th>3</th>\n",
       "      <td>1</td>\n",
       "      <td>170</td>\n",
       "      <td>28</td>\n",
       "      <td>47</td>\n",
       "      <td>-16</td>\n",
       "      <td>13</td>\n",
       "      <td>33</td>\n",
       "      <td>232</td>\n",
       "      <td>25</td>\n",
       "      <td>3</td>\n",
       "      <td>67</td>\n",
       "    </tr>\n",
       "    <tr>\n",
       "      <th>4</th>\n",
       "      <td>68</td>\n",
       "      <td>121</td>\n",
       "      <td>47</td>\n",
       "      <td>56</td>\n",
       "      <td>-8</td>\n",
       "      <td>15</td>\n",
       "      <td>40</td>\n",
       "      <td>193</td>\n",
       "      <td>45</td>\n",
       "      <td>3</td>\n",
       "      <td>63</td>\n",
       "    </tr>\n",
       "    <tr>\n",
       "      <th>5</th>\n",
       "      <td>80</td>\n",
       "      <td>110</td>\n",
       "      <td>56</td>\n",
       "      <td>71</td>\n",
       "      <td>-7</td>\n",
       "      <td>12</td>\n",
       "      <td>23</td>\n",
       "      <td>223</td>\n",
       "      <td>15</td>\n",
       "      <td>6</td>\n",
       "      <td>74</td>\n",
       "    </tr>\n",
       "  </tbody>\n",
       "</table>\n",
       "</div>"
      ],
      "text/plain": [
       "   top genre  bpm  nrgy  dnce  dB  live  val  dur  acous  spch  pop\n",
       "0          1  107    31    45  -8    13   28  150     75     3   44\n",
       "2          1  105    36    63  -9    13   67  245     11     3   77\n",
       "3          1  170    28    47 -16    13   33  232     25     3   67\n",
       "4         68  121    47    56  -8    15   40  193     45     3   63\n",
       "5         80  110    56    71  -7    12   23  223     15     6   74"
      ]
     },
     "execution_count": 15,
     "metadata": {},
     "output_type": "execute_result"
    }
   ],
   "source": [
    "# using label encoder to perform encoding\n",
    "encoder = LabelEncoder()\n",
    "for col in textual_data:\n",
    "    train_data[col] = encoder.fit_transform(train_data[col])\n",
    "train_data.head()"
   ]
  },
  {
   "cell_type": "code",
   "execution_count": 16,
   "id": "f1727390",
   "metadata": {},
   "outputs": [
    {
     "data": {
      "image/png": "[encoded data removed]",
      "text/plain": [
       "<Figure size 640x480 with 1 Axes>"
      ]
     },
     "metadata": {},
     "output_type": "display_data"
    }
   ],
   "source": [
    "# plotting boxplot for bpm\n",
    "sns.boxplot(data=train_data['bpm'])\n",
    "plt.title('BPM distribution')\n",
    "plt.show()"
   ]
  },
  {
   "cell_type": "code",
   "execution_count": 17,
   "id": "110c6718",
   "metadata": {},
   "outputs": [
    {
     "data": {
      "image/png": "[encoded data removed]",
      "text/plain": [
       "<Figure size 640x480 with 1 Axes>"
      ]
     },
     "metadata": {},
     "output_type": "display_data"
    }
   ],
   "source": [
    "# plotting boxplot for dB\n",
    "sns.boxplot(data=train_data['dB'])\n",
    "plt.title('dB distribution')\n",
    "plt.show()"
   ]
  },
  {
   "cell_type": "code",
   "execution_count": 18,
   "id": "83322a4e",
   "metadata": {},
   "outputs": [
    {
     "data": {
      "image/png": "[encoded data removed]",
      "text/plain": [
       "<Figure size 640x480 with 1 Axes>"
      ]
     },
     "metadata": {},
     "output_type": "display_data"
    }
   ],
   "source": [
    "# plotting boxplot for live\n",
    "sns.boxplot(data=train_data['live'])\n",
    "plt.title('Live distribution')\n",
    "plt.show()"
   ]
  },
  {
   "cell_type": "code",
   "execution_count": 19,
   "id": "154de053",
   "metadata": {},
   "outputs": [
    {
     "data": {
      "image/png": "[encoded data removed]",
      "text/plain": [
       "<Figure size 640x480 with 1 Axes>"
      ]
     },
     "metadata": {},
     "output_type": "display_data"
    }
   ],
   "source": [
    "# plotting boxplot for spch\n",
    "sns.boxplot(data=train_data['spch'])\n",
    "plt.title('spch distribution')\n",
    "plt.show()"
   ]
  },
  {
   "cell_type": "markdown",
   "id": "adb7cbf0",
   "metadata": {},
   "source": [
    "In our dataset by plotting the boxplots above we were able to see that we have a few ouliers. It is important for us to remove those outliers because if we use the data with the outliers in our dataset for training the machine learning model then the model built will include those observation and result into a model which will factor in those discrepancies in data. This will make our model have a higher root mean square value. And since we desire a model with a low rmse value then we will have to remove those outliers to make our model insensitive to those outliers and give us better predictions."
   ]
  },
  {
   "cell_type": "code",
   "execution_count": 20,
   "id": "d70d38e1",
   "metadata": {},
   "outputs": [
    {
     "name": "stdout",
     "output_type": "stream",
     "text": [
      "top genre    48.00\n",
      "bpm          33.00\n",
      "nrgy         34.00\n",
      "dnce         20.75\n",
      "dB            5.00\n",
      "live         14.00\n",
      "val          37.75\n",
      "dur          79.50\n",
      "acous        50.00\n",
      "spch          3.00\n",
      "pop          18.00\n",
      "dtype: float64\n"
     ]
    }
   ],
   "source": [
    "# defining quartile ranges for our dataset\n",
    "q1 = train_data.quantile(0.25)\n",
    "q3 = train_data.quantile(0.75)\n",
    "inter_quartile_range = q3 - q1\n",
    "print(inter_quartile_range)"
   ]
  },
  {
   "cell_type": "code",
   "execution_count": 21,
   "id": "7bd56f6f",
   "metadata": {},
   "outputs": [
    {
     "data": {
      "text/html": [
       "<div>\n",
       "<style scoped>\n",
       "    .dataframe tbody tr th:only-of-type {\n",
       "        vertical-align: middle;\n",
       "    }\n",
       "\n",
       "    .dataframe tbody tr th {\n",
       "        vertical-align: top;\n",
       "    }\n",
       "\n",
       "    .dataframe thead th {\n",
       "        text-align: right;\n",
       "    }\n",
       "</style>\n",
       "<table border=\"1\" class=\"dataframe\">\n",
       "  <thead>\n",
       "    <tr style=\"text-align: right;\">\n",
       "      <th></th>\n",
       "      <th>top genre</th>\n",
       "      <th>bpm</th>\n",
       "      <th>nrgy</th>\n",
       "      <th>dnce</th>\n",
       "      <th>dB</th>\n",
       "      <th>live</th>\n",
       "      <th>val</th>\n",
       "      <th>dur</th>\n",
       "      <th>acous</th>\n",
       "      <th>spch</th>\n",
       "      <th>pop</th>\n",
       "    </tr>\n",
       "  </thead>\n",
       "  <tbody>\n",
       "    <tr>\n",
       "      <th>0</th>\n",
       "      <td>1</td>\n",
       "      <td>107</td>\n",
       "      <td>31</td>\n",
       "      <td>45</td>\n",
       "      <td>-8</td>\n",
       "      <td>13</td>\n",
       "      <td>28</td>\n",
       "      <td>150</td>\n",
       "      <td>75</td>\n",
       "      <td>3</td>\n",
       "      <td>44</td>\n",
       "    </tr>\n",
       "    <tr>\n",
       "      <th>2</th>\n",
       "      <td>1</td>\n",
       "      <td>105</td>\n",
       "      <td>36</td>\n",
       "      <td>63</td>\n",
       "      <td>-9</td>\n",
       "      <td>13</td>\n",
       "      <td>67</td>\n",
       "      <td>245</td>\n",
       "      <td>11</td>\n",
       "      <td>3</td>\n",
       "      <td>77</td>\n",
       "    </tr>\n",
       "    <tr>\n",
       "      <th>3</th>\n",
       "      <td>1</td>\n",
       "      <td>170</td>\n",
       "      <td>28</td>\n",
       "      <td>47</td>\n",
       "      <td>-16</td>\n",
       "      <td>13</td>\n",
       "      <td>33</td>\n",
       "      <td>232</td>\n",
       "      <td>25</td>\n",
       "      <td>3</td>\n",
       "      <td>67</td>\n",
       "    </tr>\n",
       "    <tr>\n",
       "      <th>4</th>\n",
       "      <td>68</td>\n",
       "      <td>121</td>\n",
       "      <td>47</td>\n",
       "      <td>56</td>\n",
       "      <td>-8</td>\n",
       "      <td>15</td>\n",
       "      <td>40</td>\n",
       "      <td>193</td>\n",
       "      <td>45</td>\n",
       "      <td>3</td>\n",
       "      <td>63</td>\n",
       "    </tr>\n",
       "    <tr>\n",
       "      <th>5</th>\n",
       "      <td>80</td>\n",
       "      <td>110</td>\n",
       "      <td>56</td>\n",
       "      <td>71</td>\n",
       "      <td>-7</td>\n",
       "      <td>12</td>\n",
       "      <td>23</td>\n",
       "      <td>223</td>\n",
       "      <td>15</td>\n",
       "      <td>6</td>\n",
       "      <td>74</td>\n",
       "    </tr>\n",
       "    <tr>\n",
       "      <th>...</th>\n",
       "      <td>...</td>\n",
       "      <td>...</td>\n",
       "      <td>...</td>\n",
       "      <td>...</td>\n",
       "      <td>...</td>\n",
       "      <td>...</td>\n",
       "      <td>...</td>\n",
       "      <td>...</td>\n",
       "      <td>...</td>\n",
       "      <td>...</td>\n",
       "      <td>...</td>\n",
       "    </tr>\n",
       "    <tr>\n",
       "      <th>446</th>\n",
       "      <td>1</td>\n",
       "      <td>121</td>\n",
       "      <td>53</td>\n",
       "      <td>50</td>\n",
       "      <td>-8</td>\n",
       "      <td>7</td>\n",
       "      <td>61</td>\n",
       "      <td>182</td>\n",
       "      <td>76</td>\n",
       "      <td>4</td>\n",
       "      <td>45</td>\n",
       "    </tr>\n",
       "    <tr>\n",
       "      <th>447</th>\n",
       "      <td>25</td>\n",
       "      <td>130</td>\n",
       "      <td>66</td>\n",
       "      <td>51</td>\n",
       "      <td>-10</td>\n",
       "      <td>11</td>\n",
       "      <td>75</td>\n",
       "      <td>161</td>\n",
       "      <td>23</td>\n",
       "      <td>6</td>\n",
       "      <td>37</td>\n",
       "    </tr>\n",
       "    <tr>\n",
       "      <th>449</th>\n",
       "      <td>25</td>\n",
       "      <td>148</td>\n",
       "      <td>81</td>\n",
       "      <td>53</td>\n",
       "      <td>-13</td>\n",
       "      <td>23</td>\n",
       "      <td>96</td>\n",
       "      <td>147</td>\n",
       "      <td>50</td>\n",
       "      <td>3</td>\n",
       "      <td>50</td>\n",
       "    </tr>\n",
       "    <tr>\n",
       "      <th>451</th>\n",
       "      <td>24</td>\n",
       "      <td>165</td>\n",
       "      <td>87</td>\n",
       "      <td>64</td>\n",
       "      <td>-5</td>\n",
       "      <td>6</td>\n",
       "      <td>88</td>\n",
       "      <td>191</td>\n",
       "      <td>5</td>\n",
       "      <td>8</td>\n",
       "      <td>62</td>\n",
       "    </tr>\n",
       "    <tr>\n",
       "      <th>452</th>\n",
       "      <td>4</td>\n",
       "      <td>105</td>\n",
       "      <td>73</td>\n",
       "      <td>68</td>\n",
       "      <td>-8</td>\n",
       "      <td>14</td>\n",
       "      <td>94</td>\n",
       "      <td>281</td>\n",
       "      <td>11</td>\n",
       "      <td>2</td>\n",
       "      <td>59</td>\n",
       "    </tr>\n",
       "  </tbody>\n",
       "</table>\n",
       "<p>364 rows × 11 columns</p>\n",
       "</div>"
      ],
      "text/plain": [
       "     top genre  bpm  nrgy  dnce  dB  live  val  dur  acous  spch  pop\n",
       "0            1  107    31    45  -8    13   28  150     75     3   44\n",
       "2            1  105    36    63  -9    13   67  245     11     3   77\n",
       "3            1  170    28    47 -16    13   33  232     25     3   67\n",
       "4           68  121    47    56  -8    15   40  193     45     3   63\n",
       "5           80  110    56    71  -7    12   23  223     15     6   74\n",
       "..         ...  ...   ...   ...  ..   ...  ...  ...    ...   ...  ...\n",
       "446          1  121    53    50  -8     7   61  182     76     4   45\n",
       "447         25  130    66    51 -10    11   75  161     23     6   37\n",
       "449         25  148    81    53 -13    23   96  147     50     3   50\n",
       "451         24  165    87    64  -5     6   88  191      5     8   62\n",
       "452          4  105    73    68  -8    14   94  281     11     2   59\n",
       "\n",
       "[364 rows x 11 columns]"
      ]
     },
     "execution_count": 21,
     "metadata": {},
     "output_type": "execute_result"
    }
   ],
   "source": [
    "# removing the ouliers\n",
    "train_data = train_data[~((train_data < (q1 - 1.5 * inter_quartile_range)) |(train_data > (q3 + 1.5 * inter_quartile_range))).any(axis=1)]\n",
    "train_data"
   ]
  },
  {
   "cell_type": "markdown",
   "id": "a9651a7b",
   "metadata": {},
   "source": [
    "Now we will move on to making a correlation plot for our dataset. In mathematics, correlation is the measure of the degree of linear connection between two random terms. In statistics, correlation often refers to relationships between two or more random variables. The study of there correlation is important for us as it tell us about which features are more relevant in predicting our target variable."
   ]
  },
  {
   "cell_type": "code",
   "execution_count": 22,
   "id": "9443bf1c",
   "metadata": {},
   "outputs": [
    {
     "data": {
      "image/png": "[encoded data removed]",
      "text/plain": [
       "<Figure size 640x480 with 2 Axes>"
      ]
     },
     "metadata": {},
     "output_type": "display_data"
    }
   ],
   "source": [
    "# making correlation matrix using heatmaps in seaborn\n",
    "corr_matrix = train_data.corr()\n",
    "ax = sns.heatmap(corr_matrix, vmin=-1, vmax=1, annot=True, fmt='.2f')\n",
    "plt.title('Corelation Matrix Heatmap')\n",
    "#plt.savefig('Corelation_matrix.jpg')\n",
    "plt.show()"
   ]
  },
  {
   "cell_type": "markdown",
   "id": "d73b37ac",
   "metadata": {},
   "source": [
    "From the above correlation plot we can see that some feature have positive correlation with our dataset while other may have neutral or negative corelation. Now it depends on us to decide which features would we want to use in making of our model. The better the features we use the better is our model going to be."
   ]
  },
  {
   "cell_type": "markdown",
   "id": "7a93b6d0",
   "metadata": {},
   "source": [
    "### 5. Making the Regression Models"
   ]
  },
  {
   "cell_type": "markdown",
   "id": "9d9f1909",
   "metadata": {},
   "source": [
    "Now we will move on to the making of our machine learning model to classify a song into its correct genre. We will first vertically divide our data set into two parts that will be our dependent variable also written as y below (also called our target variable) and our independent variable written as X below. This is done because the data of dependent variables is used to predict the class of independent variable. "
   ]
  },
  {
   "cell_type": "code",
   "execution_count": 23,
   "id": "1b58f13d",
   "metadata": {},
   "outputs": [
    {
     "data": {
      "text/plain": [
       "0      44\n",
       "2      77\n",
       "3      67\n",
       "4      63\n",
       "5      74\n",
       "       ..\n",
       "446    45\n",
       "447    37\n",
       "449    50\n",
       "451    62\n",
       "452    59\n",
       "Name: pop, Length: 364, dtype: int64"
      ]
     },
     "execution_count": 23,
     "metadata": {},
     "output_type": "execute_result"
    }
   ],
   "source": [
    "y = train_data['pop']\n",
    "y"
   ]
  },
  {
   "cell_type": "code",
   "execution_count": 24,
   "id": "02d28d00",
   "metadata": {},
   "outputs": [
    {
     "data": {
      "text/html": [
       "<div>\n",
       "<style scoped>\n",
       "    .dataframe tbody tr th:only-of-type {\n",
       "        vertical-align: middle;\n",
       "    }\n",
       "\n",
       "    .dataframe tbody tr th {\n",
       "        vertical-align: top;\n",
       "    }\n",
       "\n",
       "    .dataframe thead th {\n",
       "        text-align: right;\n",
       "    }\n",
       "</style>\n",
       "<table border=\"1\" class=\"dataframe\">\n",
       "  <thead>\n",
       "    <tr style=\"text-align: right;\">\n",
       "      <th></th>\n",
       "      <th>top genre</th>\n",
       "      <th>bpm</th>\n",
       "      <th>nrgy</th>\n",
       "      <th>dnce</th>\n",
       "      <th>dB</th>\n",
       "      <th>live</th>\n",
       "      <th>val</th>\n",
       "      <th>dur</th>\n",
       "      <th>acous</th>\n",
       "      <th>spch</th>\n",
       "    </tr>\n",
       "  </thead>\n",
       "  <tbody>\n",
       "    <tr>\n",
       "      <th>0</th>\n",
       "      <td>1</td>\n",
       "      <td>107</td>\n",
       "      <td>31</td>\n",
       "      <td>45</td>\n",
       "      <td>-8</td>\n",
       "      <td>13</td>\n",
       "      <td>28</td>\n",
       "      <td>150</td>\n",
       "      <td>75</td>\n",
       "      <td>3</td>\n",
       "    </tr>\n",
       "    <tr>\n",
       "      <th>2</th>\n",
       "      <td>1</td>\n",
       "      <td>105</td>\n",
       "      <td>36</td>\n",
       "      <td>63</td>\n",
       "      <td>-9</td>\n",
       "      <td>13</td>\n",
       "      <td>67</td>\n",
       "      <td>245</td>\n",
       "      <td>11</td>\n",
       "      <td>3</td>\n",
       "    </tr>\n",
       "    <tr>\n",
       "      <th>3</th>\n",
       "      <td>1</td>\n",
       "      <td>170</td>\n",
       "      <td>28</td>\n",
       "      <td>47</td>\n",
       "      <td>-16</td>\n",
       "      <td>13</td>\n",
       "      <td>33</td>\n",
       "      <td>232</td>\n",
       "      <td>25</td>\n",
       "      <td>3</td>\n",
       "    </tr>\n",
       "    <tr>\n",
       "      <th>4</th>\n",
       "      <td>68</td>\n",
       "      <td>121</td>\n",
       "      <td>47</td>\n",
       "      <td>56</td>\n",
       "      <td>-8</td>\n",
       "      <td>15</td>\n",
       "      <td>40</td>\n",
       "      <td>193</td>\n",
       "      <td>45</td>\n",
       "      <td>3</td>\n",
       "    </tr>\n",
       "    <tr>\n",
       "      <th>5</th>\n",
       "      <td>80</td>\n",
       "      <td>110</td>\n",
       "      <td>56</td>\n",
       "      <td>71</td>\n",
       "      <td>-7</td>\n",
       "      <td>12</td>\n",
       "      <td>23</td>\n",
       "      <td>223</td>\n",
       "      <td>15</td>\n",
       "      <td>6</td>\n",
       "    </tr>\n",
       "    <tr>\n",
       "      <th>...</th>\n",
       "      <td>...</td>\n",
       "      <td>...</td>\n",
       "      <td>...</td>\n",
       "      <td>...</td>\n",
       "      <td>...</td>\n",
       "      <td>...</td>\n",
       "      <td>...</td>\n",
       "      <td>...</td>\n",
       "      <td>...</td>\n",
       "      <td>...</td>\n",
       "    </tr>\n",
       "    <tr>\n",
       "      <th>446</th>\n",
       "      <td>1</td>\n",
       "      <td>121</td>\n",
       "      <td>53</td>\n",
       "      <td>50</td>\n",
       "      <td>-8</td>\n",
       "      <td>7</td>\n",
       "      <td>61</td>\n",
       "      <td>182</td>\n",
       "      <td>76</td>\n",
       "      <td>4</td>\n",
       "    </tr>\n",
       "    <tr>\n",
       "      <th>447</th>\n",
       "      <td>25</td>\n",
       "      <td>130</td>\n",
       "      <td>66</td>\n",
       "      <td>51</td>\n",
       "      <td>-10</td>\n",
       "      <td>11</td>\n",
       "      <td>75</td>\n",
       "      <td>161</td>\n",
       "      <td>23</td>\n",
       "      <td>6</td>\n",
       "    </tr>\n",
       "    <tr>\n",
       "      <th>449</th>\n",
       "      <td>25</td>\n",
       "      <td>148</td>\n",
       "      <td>81</td>\n",
       "      <td>53</td>\n",
       "      <td>-13</td>\n",
       "      <td>23</td>\n",
       "      <td>96</td>\n",
       "      <td>147</td>\n",
       "      <td>50</td>\n",
       "      <td>3</td>\n",
       "    </tr>\n",
       "    <tr>\n",
       "      <th>451</th>\n",
       "      <td>24</td>\n",
       "      <td>165</td>\n",
       "      <td>87</td>\n",
       "      <td>64</td>\n",
       "      <td>-5</td>\n",
       "      <td>6</td>\n",
       "      <td>88</td>\n",
       "      <td>191</td>\n",
       "      <td>5</td>\n",
       "      <td>8</td>\n",
       "    </tr>\n",
       "    <tr>\n",
       "      <th>452</th>\n",
       "      <td>4</td>\n",
       "      <td>105</td>\n",
       "      <td>73</td>\n",
       "      <td>68</td>\n",
       "      <td>-8</td>\n",
       "      <td>14</td>\n",
       "      <td>94</td>\n",
       "      <td>281</td>\n",
       "      <td>11</td>\n",
       "      <td>2</td>\n",
       "    </tr>\n",
       "  </tbody>\n",
       "</table>\n",
       "<p>364 rows × 10 columns</p>\n",
       "</div>"
      ],
      "text/plain": [
       "     top genre  bpm  nrgy  dnce  dB  live  val  dur  acous  spch\n",
       "0            1  107    31    45  -8    13   28  150     75     3\n",
       "2            1  105    36    63  -9    13   67  245     11     3\n",
       "3            1  170    28    47 -16    13   33  232     25     3\n",
       "4           68  121    47    56  -8    15   40  193     45     3\n",
       "5           80  110    56    71  -7    12   23  223     15     6\n",
       "..         ...  ...   ...   ...  ..   ...  ...  ...    ...   ...\n",
       "446          1  121    53    50  -8     7   61  182     76     4\n",
       "447         25  130    66    51 -10    11   75  161     23     6\n",
       "449         25  148    81    53 -13    23   96  147     50     3\n",
       "451         24  165    87    64  -5     6   88  191      5     8\n",
       "452          4  105    73    68  -8    14   94  281     11     2\n",
       "\n",
       "[364 rows x 10 columns]"
      ]
     },
     "execution_count": 24,
     "metadata": {},
     "output_type": "execute_result"
    }
   ],
   "source": [
    "X = train_data.drop(['pop'], axis = 1)\n",
    "X"
   ]
  },
  {
   "cell_type": "markdown",
   "id": "3df97815",
   "metadata": {},
   "source": [
    "Also we will dived our dataset again into two parts namely training and testing data so that we can use the training data to make the model and then use the testing data to evaluate the model that we have made. This is an important step because this is how we will select our model. The model which performs the best in accuracy will be selected as higher accuracy signifies more correctly classified target variables."
   ]
  },
  {
   "cell_type": "code",
   "execution_count": 25,
   "id": "9b43fa03",
   "metadata": {},
   "outputs": [
    {
     "name": "stdout",
     "output_type": "stream",
     "text": [
      "Number of observations in training data:  273\n",
      "Number of observations in testing data:  91\n"
     ]
    }
   ],
   "source": [
    "X_train, X_test, y_train, y_test = train_test_split(X, y, test_size=0.25, random_state=7)\n",
    "print(\"Number of observations in training data: \", len(X_train))\n",
    "print(\"Number of observations in testing data: \", len(X_test))"
   ]
  },
  {
   "cell_type": "markdown",
   "id": "967ad9c8",
   "metadata": {},
   "source": [
    "We are now going to start making our models and store there accuracy and root mean squar score in a list named scores which we will later convert to a pandas dataframe to see all the metrics in a structured manner. \n",
    "\n",
    "In our project we have decided to make a few models using namely linear regression, support vector machine regressor, random forest, Gradient Boosting Regressor and finally Hist Gradient Boosting Regressor. All the regressors have there own set of advantages and disadvantages. Based on the data we have that is highly skewed some regressors might not work as great as other regressors but we will test all of them and give reasoning for the best and the worst models made."
   ]
  },
  {
   "cell_type": "code",
   "execution_count": 26,
   "id": "8a3235ac",
   "metadata": {},
   "outputs": [],
   "source": [
    "scores = []"
   ]
  },
  {
   "cell_type": "code",
   "execution_count": 27,
   "id": "f311a476",
   "metadata": {},
   "outputs": [
    {
     "data": {
      "text/plain": [
       "LinearRegression()"
      ]
     },
     "execution_count": 27,
     "metadata": {},
     "output_type": "execute_result"
    }
   ],
   "source": [
    "model = linear_model.LinearRegression()\n",
    "model.fit(X_train, y_train)"
   ]
  },
  {
   "cell_type": "code",
   "execution_count": 28,
   "id": "2ac8e174",
   "metadata": {},
   "outputs": [
    {
     "name": "stdout",
     "output_type": "stream",
     "text": [
      "Our model performs with the accuracy of : 36.34289691891786 %\n",
      "Root mean square error: 9.234546105567711\n"
     ]
    }
   ],
   "source": [
    "model_score = model.score(X_test, y_test)\n",
    "print('Our model performs with the accuracy of :', model_score*100, '%')\n",
    "predicted = model.predict(X_test)\n",
    "mse = mean_squared_error(y_test,predicted)\n",
    "rmse = np.sqrt(mse)\n",
    "print(\"Root mean square error:\",rmse)\n",
    "scores.append([model, model_score, rmse])"
   ]
  },
  {
   "cell_type": "code",
   "execution_count": 29,
   "id": "bdb50e28",
   "metadata": {},
   "outputs": [
    {
     "data": {
      "text/plain": [
       "SVR()"
      ]
     },
     "execution_count": 29,
     "metadata": {},
     "output_type": "execute_result"
    }
   ],
   "source": [
    "model = svm.SVR()\n",
    "model.fit(X_train, y_train)"
   ]
  },
  {
   "cell_type": "code",
   "execution_count": 30,
   "id": "0d74b766",
   "metadata": {},
   "outputs": [
    {
     "name": "stdout",
     "output_type": "stream",
     "text": [
      "Our model performs with the accuracy of : 31.755038396797776 %\n",
      "Root mean square error: 9.56153051591984\n"
     ]
    }
   ],
   "source": [
    "model_score = model.score(X_test, y_test)\n",
    "print('Our model performs with the accuracy of :', model_score*100, '%')\n",
    "predicted = model.predict(X_test)\n",
    "mse = mean_squared_error(y_test,predicted)\n",
    "rmse = np.sqrt(mse)\n",
    "print(\"Root mean square error:\",rmse)\n",
    "scores.append([model, model_score, rmse])"
   ]
  },
  {
   "cell_type": "code",
   "execution_count": 31,
   "id": "2ec0a954",
   "metadata": {},
   "outputs": [
    {
     "data": {
      "text/plain": [
       "RandomForestRegressor(max_depth=100, random_state=0)"
      ]
     },
     "execution_count": 31,
     "metadata": {},
     "output_type": "execute_result"
    }
   ],
   "source": [
    "model = RandomForestRegressor(max_depth=100, random_state = 0)\n",
    "model.fit(X_train, y_train)"
   ]
  },
  {
   "cell_type": "code",
   "execution_count": 32,
   "id": "4aa49ca8",
   "metadata": {},
   "outputs": [
    {
     "name": "stdout",
     "output_type": "stream",
     "text": [
      "Our model performs with the accuracy of : 37.01213304054822 %\n",
      "Root mean square error: 9.185875803956543\n"
     ]
    }
   ],
   "source": [
    "model_score = model.score(X_test, y_test)\n",
    "print('Our model performs with the accuracy of :', model_score*100, '%')\n",
    "predicted = model.predict(X_test)\n",
    "mse = mean_squared_error(y_test,predicted)\n",
    "rmse = np.sqrt(mse)\n",
    "print(\"Root mean square error:\",rmse)\n",
    "scores.append([model, model_score, rmse])"
   ]
  },
  {
   "cell_type": "code",
   "execution_count": 33,
   "id": "837a6e0d",
   "metadata": {},
   "outputs": [
    {
     "data": {
      "text/plain": [
       "GradientBoostingRegressor(random_state=0)"
      ]
     },
     "execution_count": 33,
     "metadata": {},
     "output_type": "execute_result"
    }
   ],
   "source": [
    "model = GradientBoostingRegressor(random_state = 0)\n",
    "model.fit(X_train, y_train)"
   ]
  },
  {
   "cell_type": "code",
   "execution_count": 34,
   "id": "bc06bede",
   "metadata": {},
   "outputs": [
    {
     "name": "stdout",
     "output_type": "stream",
     "text": [
      "Our model performs with the accuracy of : 30.946974485657307 %\n",
      "Root mean square error: 9.617971246574424\n"
     ]
    }
   ],
   "source": [
    "model_score = model.score(X_test, y_test)\n",
    "print('Our model performs with the accuracy of :', model_score*100, '%')\n",
    "predicted = model.predict(X_test)\n",
    "mse = mean_squared_error(y_test,predicted)\n",
    "rmse = np.sqrt(mse)\n",
    "print(\"Root mean square error:\",rmse)\n",
    "scores.append([model, model_score, rmse])"
   ]
  },
  {
   "cell_type": "code",
   "execution_count": 35,
   "id": "5a51c97e",
   "metadata": {},
   "outputs": [
    {
     "data": {
      "text/plain": [
       "HistGradientBoostingRegressor(random_state=0)"
      ]
     },
     "execution_count": 35,
     "metadata": {},
     "output_type": "execute_result"
    }
   ],
   "source": [
    "model = HistGradientBoostingRegressor(random_state = 0)\n",
    "model.fit(X_train, y_train)"
   ]
  },
  {
   "cell_type": "code",
   "execution_count": 36,
   "id": "45a4b4e6",
   "metadata": {},
   "outputs": [
    {
     "name": "stdout",
     "output_type": "stream",
     "text": [
      "Our model performs with the accuracy of : 34.80834563732855 %\n",
      "Root mean square error: 9.345189657716613\n"
     ]
    }
   ],
   "source": [
    "model_score = model.score(X_test, y_test)\n",
    "print('Our model performs with the accuracy of :', model_score*100, '%')\n",
    "predicted = model.predict(X_test)\n",
    "mse = mean_squared_error(y_test,predicted)\n",
    "rmse = np.sqrt(mse)\n",
    "print(\"Root mean square error:\",rmse)\n",
    "scores.append([model, model_score, rmse])"
   ]
  },
  {
   "cell_type": "code",
   "execution_count": 37,
   "id": "9cde1b87",
   "metadata": {},
   "outputs": [
    {
     "data": {
      "text/html": [
       "<div>\n",
       "<style scoped>\n",
       "    .dataframe tbody tr th:only-of-type {\n",
       "        vertical-align: middle;\n",
       "    }\n",
       "\n",
       "    .dataframe tbody tr th {\n",
       "        vertical-align: top;\n",
       "    }\n",
       "\n",
       "    .dataframe thead th {\n",
       "        text-align: right;\n",
       "    }\n",
       "</style>\n",
       "<table border=\"1\" class=\"dataframe\">\n",
       "  <thead>\n",
       "    <tr style=\"text-align: right;\">\n",
       "      <th></th>\n",
       "      <th>Model</th>\n",
       "      <th>Score</th>\n",
       "      <th>RMSE</th>\n",
       "    </tr>\n",
       "  </thead>\n",
       "  <tbody>\n",
       "    <tr>\n",
       "      <th>0</th>\n",
       "      <td>LinearRegression()</td>\n",
       "      <td>0.363429</td>\n",
       "      <td>9.234546</td>\n",
       "    </tr>\n",
       "    <tr>\n",
       "      <th>1</th>\n",
       "      <td>SVR()</td>\n",
       "      <td>0.317550</td>\n",
       "      <td>9.561531</td>\n",
       "    </tr>\n",
       "    <tr>\n",
       "      <th>2</th>\n",
       "      <td>(DecisionTreeRegressor(max_depth=100, max_feat...</td>\n",
       "      <td>0.370121</td>\n",
       "      <td>9.185876</td>\n",
       "    </tr>\n",
       "    <tr>\n",
       "      <th>3</th>\n",
       "      <td>([DecisionTreeRegressor(criterion='friedman_ms...</td>\n",
       "      <td>0.309470</td>\n",
       "      <td>9.617971</td>\n",
       "    </tr>\n",
       "    <tr>\n",
       "      <th>4</th>\n",
       "      <td>HistGradientBoostingRegressor(random_state=0)</td>\n",
       "      <td>0.348083</td>\n",
       "      <td>9.345190</td>\n",
       "    </tr>\n",
       "  </tbody>\n",
       "</table>\n",
       "</div>"
      ],
      "text/plain": [
       "                                               Model     Score      RMSE\n",
       "0                                 LinearRegression()  0.363429  9.234546\n",
       "1                                              SVR()  0.317550  9.561531\n",
       "2  (DecisionTreeRegressor(max_depth=100, max_feat...  0.370121  9.185876\n",
       "3  ([DecisionTreeRegressor(criterion='friedman_ms...  0.309470  9.617971\n",
       "4      HistGradientBoostingRegressor(random_state=0)  0.348083  9.345190"
      ]
     },
     "execution_count": 37,
     "metadata": {},
     "output_type": "execute_result"
    }
   ],
   "source": [
    "# making a datafram to see all model and their metrics\n",
    "pd.DataFrame(scores, columns = ['Model', 'Score', 'RMSE'])"
   ]
  },
  {
   "cell_type": "markdown",
   "id": "cb1af7b9",
   "metadata": {},
   "source": [
    "As we can see from the above scores data frame that the best performing model with the lowest rmse of 9.18 is our random forrest regressor. It may be because it an ensemble learning model. Using many models that have been trained on the same data and averaging their findings to provide a more accurate prediction or classification is known as ensemble learning. The assumption behind ensemble learning is that the faults of each model are distinct from one another and independent of one another. Thus after learning from all the models it gives us the best possible model.\n",
    "\n",
    "We can also see that the worst performing model is Gradient Boosting Regressor. It could be because they are more sensitive to overfitting if the data is noisy. And our data is noisy because of the genres and other features. Gradient boosting uses ensembles to guide a single tree to the correct target since it anticipates that a single tree may frequently miss the objective. Although both are ensemble methods one performs the best while another one doesn't do much well. "
   ]
  },
  {
   "cell_type": "markdown",
   "id": "8c1d4f58",
   "metadata": {},
   "source": [
    "### 6. Creating the submission"
   ]
  },
  {
   "cell_type": "markdown",
   "id": "cf761873",
   "metadata": {},
   "source": [
    "In this part of the project we will now move on to importing our testing data set and using our random forrest regressor to predict the popularity of songs in testing dataset. We will then remove the columns which are not required in our submission copy and export the final submission copy to be uploaded on the kaggle competition."
   ]
  },
  {
   "cell_type": "code",
   "execution_count": 38,
   "id": "bbd7044c",
   "metadata": {},
   "outputs": [
    {
     "data": {
      "text/html": [
       "<div>\n",
       "<style scoped>\n",
       "    .dataframe tbody tr th:only-of-type {\n",
       "        vertical-align: middle;\n",
       "    }\n",
       "\n",
       "    .dataframe tbody tr th {\n",
       "        vertical-align: top;\n",
       "    }\n",
       "\n",
       "    .dataframe thead th {\n",
       "        text-align: right;\n",
       "    }\n",
       "</style>\n",
       "<table border=\"1\" class=\"dataframe\">\n",
       "  <thead>\n",
       "    <tr style=\"text-align: right;\">\n",
       "      <th></th>\n",
       "      <th>Id</th>\n",
       "      <th>title</th>\n",
       "      <th>artist</th>\n",
       "      <th>top genre</th>\n",
       "      <th>year</th>\n",
       "      <th>bpm</th>\n",
       "      <th>nrgy</th>\n",
       "      <th>dnce</th>\n",
       "      <th>dB</th>\n",
       "      <th>live</th>\n",
       "      <th>val</th>\n",
       "      <th>dur</th>\n",
       "      <th>acous</th>\n",
       "      <th>spch</th>\n",
       "    </tr>\n",
       "  </thead>\n",
       "  <tbody>\n",
       "    <tr>\n",
       "      <th>0</th>\n",
       "      <td>454</td>\n",
       "      <td>Pump It</td>\n",
       "      <td>The Black Eyed Peas</td>\n",
       "      <td>dance pop</td>\n",
       "      <td>2005</td>\n",
       "      <td>154</td>\n",
       "      <td>93</td>\n",
       "      <td>65</td>\n",
       "      <td>-3</td>\n",
       "      <td>75</td>\n",
       "      <td>74</td>\n",
       "      <td>213</td>\n",
       "      <td>1</td>\n",
       "      <td>18</td>\n",
       "    </tr>\n",
       "    <tr>\n",
       "      <th>1</th>\n",
       "      <td>455</td>\n",
       "      <td>Circle of Life - From \"The Lion King\"/Soundtra...</td>\n",
       "      <td>Elton John</td>\n",
       "      <td>glam rock</td>\n",
       "      <td>1994</td>\n",
       "      <td>161</td>\n",
       "      <td>39</td>\n",
       "      <td>30</td>\n",
       "      <td>-15</td>\n",
       "      <td>11</td>\n",
       "      <td>14</td>\n",
       "      <td>292</td>\n",
       "      <td>26</td>\n",
       "      <td>3</td>\n",
       "    </tr>\n",
       "    <tr>\n",
       "      <th>2</th>\n",
       "      <td>456</td>\n",
       "      <td>We Are The Champions - Remastered 2011</td>\n",
       "      <td>Queen</td>\n",
       "      <td>glam rock</td>\n",
       "      <td>1977</td>\n",
       "      <td>64</td>\n",
       "      <td>46</td>\n",
       "      <td>27</td>\n",
       "      <td>-7</td>\n",
       "      <td>12</td>\n",
       "      <td>18</td>\n",
       "      <td>179</td>\n",
       "      <td>38</td>\n",
       "      <td>3</td>\n",
       "    </tr>\n",
       "    <tr>\n",
       "      <th>3</th>\n",
       "      <td>457</td>\n",
       "      <td>Insomnia - Radio Edit</td>\n",
       "      <td>Faithless</td>\n",
       "      <td>big beat</td>\n",
       "      <td>2010</td>\n",
       "      <td>127</td>\n",
       "      <td>92</td>\n",
       "      <td>71</td>\n",
       "      <td>-9</td>\n",
       "      <td>37</td>\n",
       "      <td>53</td>\n",
       "      <td>216</td>\n",
       "      <td>6</td>\n",
       "      <td>4</td>\n",
       "    </tr>\n",
       "    <tr>\n",
       "      <th>4</th>\n",
       "      <td>458</td>\n",
       "      <td>This Eve of Parting</td>\n",
       "      <td>John Hartford</td>\n",
       "      <td>appalachian folk</td>\n",
       "      <td>2018</td>\n",
       "      <td>115</td>\n",
       "      <td>46</td>\n",
       "      <td>56</td>\n",
       "      <td>-12</td>\n",
       "      <td>21</td>\n",
       "      <td>34</td>\n",
       "      <td>153</td>\n",
       "      <td>18</td>\n",
       "      <td>3</td>\n",
       "    </tr>\n",
       "  </tbody>\n",
       "</table>\n",
       "</div>"
      ],
      "text/plain": [
       "    Id                                              title  \\\n",
       "0  454                                            Pump It   \n",
       "1  455  Circle of Life - From \"The Lion King\"/Soundtra...   \n",
       "2  456             We Are The Champions - Remastered 2011   \n",
       "3  457                              Insomnia - Radio Edit   \n",
       "4  458                                This Eve of Parting   \n",
       "\n",
       "                artist         top genre  year  bpm  nrgy  dnce  dB  live  \\\n",
       "0  The Black Eyed Peas         dance pop  2005  154    93    65  -3    75   \n",
       "1           Elton John         glam rock  1994  161    39    30 -15    11   \n",
       "2                Queen         glam rock  1977   64    46    27  -7    12   \n",
       "3            Faithless          big beat  2010  127    92    71  -9    37   \n",
       "4        John Hartford  appalachian folk  2018  115    46    56 -12    21   \n",
       "\n",
       "   val  dur  acous  spch  \n",
       "0   74  213      1    18  \n",
       "1   14  292     26     3  \n",
       "2   18  179     38     3  \n",
       "3   53  216      6     4  \n",
       "4   34  153     18     3  "
      ]
     },
     "execution_count": 38,
     "metadata": {},
     "output_type": "execute_result"
    }
   ],
   "source": [
    "# reading the testing dataset\n",
    "test_data = pd.read_csv('CS98XRegressionTest.csv')\n",
    "test_data.head()"
   ]
  },
  {
   "cell_type": "code",
   "execution_count": 39,
   "id": "ce8d5283",
   "metadata": {},
   "outputs": [],
   "source": [
    "# saving ID column to be used later\n",
    "Id_col = test_data['Id']"
   ]
  },
  {
   "cell_type": "code",
   "execution_count": 40,
   "id": "b59cc62d",
   "metadata": {},
   "outputs": [],
   "source": [
    "# dropping the columns which are not used in making of our final model\n",
    "test_data.drop(['Id', 'title', 'artist', 'year'], axis = 1, inplace=True)"
   ]
  },
  {
   "cell_type": "code",
   "execution_count": 41,
   "id": "51d22ac2",
   "metadata": {},
   "outputs": [
    {
     "name": "stdout",
     "output_type": "stream",
     "text": [
      "top genre :  ['dance pop' 'glam rock' 'big beat' 'appalachian folk' 'adult standards'\n",
      " 'mellow gold' 'album rock' 'brill building pop' 'barbadian pop'\n",
      " 'british invasion' 'bubblegum dance' 'hollywood' 'cowboy western'\n",
      " 'hip hop' 'g funk' 'eurodance' 'native american' 'alternative country'\n",
      " 'east coast hip hop' 'art rock' 'blues rock' 'dance rock'\n",
      " 'classic country pop' 'beach music' 'neo mellow' 'disco' nan 'europop'\n",
      " 'classic rock' 'bronx hip hop' 'alternative metal' 'big room'\n",
      " 'modern rock' 'dirty south rap' 'canadian pop' 'boy band'\n",
      " 'deep adult standards' 'diva house' 'jazz fusion' 'glam metal'] \n",
      "\n"
     ]
    }
   ],
   "source": [
    "# encoding genre to put in our final model\n",
    "textual_data = ['top genre']\n",
    "\n",
    "for col in textual_data:\n",
    "    print(col, \": \", test_data[col].unique(), \"\\n\")\n"
   ]
  },
  {
   "cell_type": "code",
   "execution_count": 42,
   "id": "ba23e51b",
   "metadata": {},
   "outputs": [
    {
     "data": {
      "text/html": [
       "<div>\n",
       "<style scoped>\n",
       "    .dataframe tbody tr th:only-of-type {\n",
       "        vertical-align: middle;\n",
       "    }\n",
       "\n",
       "    .dataframe tbody tr th {\n",
       "        vertical-align: top;\n",
       "    }\n",
       "\n",
       "    .dataframe thead th {\n",
       "        text-align: right;\n",
       "    }\n",
       "</style>\n",
       "<table border=\"1\" class=\"dataframe\">\n",
       "  <thead>\n",
       "    <tr style=\"text-align: right;\">\n",
       "      <th></th>\n",
       "      <th>top genre</th>\n",
       "      <th>bpm</th>\n",
       "      <th>nrgy</th>\n",
       "      <th>dnce</th>\n",
       "      <th>dB</th>\n",
       "      <th>live</th>\n",
       "      <th>val</th>\n",
       "      <th>dur</th>\n",
       "      <th>acous</th>\n",
       "      <th>spch</th>\n",
       "    </tr>\n",
       "  </thead>\n",
       "  <tbody>\n",
       "    <tr>\n",
       "      <th>0</th>\n",
       "      <td>20</td>\n",
       "      <td>154</td>\n",
       "      <td>93</td>\n",
       "      <td>65</td>\n",
       "      <td>-3</td>\n",
       "      <td>75</td>\n",
       "      <td>74</td>\n",
       "      <td>213</td>\n",
       "      <td>1</td>\n",
       "      <td>18</td>\n",
       "    </tr>\n",
       "    <tr>\n",
       "      <th>1</th>\n",
       "      <td>31</td>\n",
       "      <td>161</td>\n",
       "      <td>39</td>\n",
       "      <td>30</td>\n",
       "      <td>-15</td>\n",
       "      <td>11</td>\n",
       "      <td>14</td>\n",
       "      <td>292</td>\n",
       "      <td>26</td>\n",
       "      <td>3</td>\n",
       "    </tr>\n",
       "    <tr>\n",
       "      <th>2</th>\n",
       "      <td>31</td>\n",
       "      <td>64</td>\n",
       "      <td>46</td>\n",
       "      <td>27</td>\n",
       "      <td>-7</td>\n",
       "      <td>12</td>\n",
       "      <td>18</td>\n",
       "      <td>179</td>\n",
       "      <td>38</td>\n",
       "      <td>3</td>\n",
       "    </tr>\n",
       "    <tr>\n",
       "      <th>3</th>\n",
       "      <td>8</td>\n",
       "      <td>127</td>\n",
       "      <td>92</td>\n",
       "      <td>71</td>\n",
       "      <td>-9</td>\n",
       "      <td>37</td>\n",
       "      <td>53</td>\n",
       "      <td>216</td>\n",
       "      <td>6</td>\n",
       "      <td>4</td>\n",
       "    </tr>\n",
       "    <tr>\n",
       "      <th>4</th>\n",
       "      <td>4</td>\n",
       "      <td>115</td>\n",
       "      <td>46</td>\n",
       "      <td>56</td>\n",
       "      <td>-12</td>\n",
       "      <td>21</td>\n",
       "      <td>34</td>\n",
       "      <td>153</td>\n",
       "      <td>18</td>\n",
       "      <td>3</td>\n",
       "    </tr>\n",
       "  </tbody>\n",
       "</table>\n",
       "</div>"
      ],
      "text/plain": [
       "   top genre  bpm  nrgy  dnce  dB  live  val  dur  acous  spch\n",
       "0         20  154    93    65  -3    75   74  213      1    18\n",
       "1         31  161    39    30 -15    11   14  292     26     3\n",
       "2         31   64    46    27  -7    12   18  179     38     3\n",
       "3          8  127    92    71  -9    37   53  216      6     4\n",
       "4          4  115    46    56 -12    21   34  153     18     3"
      ]
     },
     "execution_count": 42,
     "metadata": {},
     "output_type": "execute_result"
    }
   ],
   "source": [
    "# using the same encoder to transform categorical genre to numerical values\n",
    "for col in textual_data:\n",
    "    test_data[col] = encoder.fit_transform(test_data[col])\n",
    "test_data.head()\n"
   ]
  },
  {
   "cell_type": "code",
   "execution_count": 43,
   "id": "fb21d038",
   "metadata": {},
   "outputs": [
    {
     "data": {
      "text/plain": [
       "RandomForestRegressor(max_depth=100, random_state=0)"
      ]
     },
     "execution_count": 43,
     "metadata": {},
     "output_type": "execute_result"
    }
   ],
   "source": [
    "# creating our regressor with the best parameter as above\n",
    "reg = RandomForestRegressor(max_depth=100, random_state = 0)\n",
    "reg.fit(X_train, y_train)"
   ]
  },
  {
   "cell_type": "code",
   "execution_count": 44,
   "id": "753a45f7",
   "metadata": {},
   "outputs": [
    {
     "name": "stdout",
     "output_type": "stream",
     "text": [
      "Our model performs with the accuracy of : 37.01213304054822 %\n",
      "Root mean square error: 9.185875803956543\n"
     ]
    }
   ],
   "source": [
    "model_score = reg.score(X_test, y_test)\n",
    "print('Our model performs with the accuracy of :', model_score*100, '%')\n",
    "predicted = reg.predict(X_test)\n",
    "mse = mean_squared_error(y_test,predicted)\n",
    "rmse = np.sqrt(mse)\n",
    "print(\"Root mean square error:\",rmse)"
   ]
  },
  {
   "cell_type": "code",
   "execution_count": 45,
   "id": "92fd1477",
   "metadata": {},
   "outputs": [],
   "source": [
    "# predicting the genre of songs in test data\n",
    "results = reg.predict(test_data)"
   ]
  },
  {
   "cell_type": "code",
   "execution_count": 46,
   "id": "115af59a",
   "metadata": {},
   "outputs": [],
   "source": [
    "test_data['Id'] = Id_col"
   ]
  },
  {
   "cell_type": "code",
   "execution_count": 47,
   "id": "536d358e",
   "metadata": {},
   "outputs": [],
   "source": [
    "# adding predicted popularity in test data to be submitted\n",
    "test_data['pop'] = results"
   ]
  },
  {
   "cell_type": "code",
   "execution_count": 48,
   "id": "ed010f23",
   "metadata": {},
   "outputs": [],
   "source": [
    "submission_data = test_data.drop([ 'top genre','nrgy', 'dnce', 'dB', 'dur', 'spch', 'live', 'val', 'acous', 'bpm'], axis = 1)"
   ]
  },
  {
   "cell_type": "code",
   "execution_count": 49,
   "id": "67644371",
   "metadata": {},
   "outputs": [
    {
     "data": {
      "text/html": [
       "<div>\n",
       "<style scoped>\n",
       "    .dataframe tbody tr th:only-of-type {\n",
       "        vertical-align: middle;\n",
       "    }\n",
       "\n",
       "    .dataframe tbody tr th {\n",
       "        vertical-align: top;\n",
       "    }\n",
       "\n",
       "    .dataframe thead th {\n",
       "        text-align: right;\n",
       "    }\n",
       "</style>\n",
       "<table border=\"1\" class=\"dataframe\">\n",
       "  <thead>\n",
       "    <tr style=\"text-align: right;\">\n",
       "      <th></th>\n",
       "      <th>Id</th>\n",
       "      <th>pop</th>\n",
       "    </tr>\n",
       "  </thead>\n",
       "  <tbody>\n",
       "    <tr>\n",
       "      <th>0</th>\n",
       "      <td>454</td>\n",
       "      <td>67.00</td>\n",
       "    </tr>\n",
       "    <tr>\n",
       "      <th>1</th>\n",
       "      <td>455</td>\n",
       "      <td>65.69</td>\n",
       "    </tr>\n",
       "    <tr>\n",
       "      <th>2</th>\n",
       "      <td>456</td>\n",
       "      <td>55.85</td>\n",
       "    </tr>\n",
       "    <tr>\n",
       "      <th>3</th>\n",
       "      <td>457</td>\n",
       "      <td>61.08</td>\n",
       "    </tr>\n",
       "    <tr>\n",
       "      <th>4</th>\n",
       "      <td>458</td>\n",
       "      <td>54.96</td>\n",
       "    </tr>\n",
       "    <tr>\n",
       "      <th>...</th>\n",
       "      <td>...</td>\n",
       "      <td>...</td>\n",
       "    </tr>\n",
       "    <tr>\n",
       "      <th>109</th>\n",
       "      <td>563</td>\n",
       "      <td>64.48</td>\n",
       "    </tr>\n",
       "    <tr>\n",
       "      <th>110</th>\n",
       "      <td>564</td>\n",
       "      <td>63.53</td>\n",
       "    </tr>\n",
       "    <tr>\n",
       "      <th>111</th>\n",
       "      <td>565</td>\n",
       "      <td>60.47</td>\n",
       "    </tr>\n",
       "    <tr>\n",
       "      <th>112</th>\n",
       "      <td>566</td>\n",
       "      <td>63.82</td>\n",
       "    </tr>\n",
       "    <tr>\n",
       "      <th>113</th>\n",
       "      <td>567</td>\n",
       "      <td>65.60</td>\n",
       "    </tr>\n",
       "  </tbody>\n",
       "</table>\n",
       "<p>114 rows × 2 columns</p>\n",
       "</div>"
      ],
      "text/plain": [
       "      Id    pop\n",
       "0    454  67.00\n",
       "1    455  65.69\n",
       "2    456  55.85\n",
       "3    457  61.08\n",
       "4    458  54.96\n",
       "..   ...    ...\n",
       "109  563  64.48\n",
       "110  564  63.53\n",
       "111  565  60.47\n",
       "112  566  63.82\n",
       "113  567  65.60\n",
       "\n",
       "[114 rows x 2 columns]"
      ]
     },
     "execution_count": 49,
     "metadata": {},
     "output_type": "execute_result"
    }
   ],
   "source": [
    "submission_data"
   ]
  },
  {
   "cell_type": "code",
   "execution_count": 50,
   "id": "56b046f4",
   "metadata": {},
   "outputs": [
    {
     "name": "stderr",
     "output_type": "stream",
     "text": [
      "C:\\Users\\Echo\\AppData\\Local\\Temp\\ipykernel_16168\\3146497583.py:3: SettingWithCopyWarning: \n",
      "A value is trying to be set on a copy of a slice from a DataFrame\n",
      "\n",
      "See the caveats in the documentation: https://pandas.pydata.org/pandas-docs/stable/user_guide/indexing.html#returning-a-view-versus-a-copy\n",
      "  submission_data['pop'][i] = round(submission_data['pop'][i], 0).astype(int)\n"
     ]
    }
   ],
   "source": [
    "# rounding up the values of popularity\n",
    "for i in range(submission_data.shape[0]):\n",
    "    submission_data['pop'][i] = round(submission_data['pop'][i], 0).astype(int) "
   ]
  },
  {
   "cell_type": "code",
   "execution_count": 51,
   "id": "cc1e610a",
   "metadata": {},
   "outputs": [
    {
     "data": {
      "text/html": [
       "<div>\n",
       "<style scoped>\n",
       "    .dataframe tbody tr th:only-of-type {\n",
       "        vertical-align: middle;\n",
       "    }\n",
       "\n",
       "    .dataframe tbody tr th {\n",
       "        vertical-align: top;\n",
       "    }\n",
       "\n",
       "    .dataframe thead th {\n",
       "        text-align: right;\n",
       "    }\n",
       "</style>\n",
       "<table border=\"1\" class=\"dataframe\">\n",
       "  <thead>\n",
       "    <tr style=\"text-align: right;\">\n",
       "      <th></th>\n",
       "      <th>pop</th>\n",
       "    </tr>\n",
       "    <tr>\n",
       "      <th>Id</th>\n",
       "      <th></th>\n",
       "    </tr>\n",
       "  </thead>\n",
       "  <tbody>\n",
       "    <tr>\n",
       "      <th>454</th>\n",
       "      <td>67.0</td>\n",
       "    </tr>\n",
       "    <tr>\n",
       "      <th>455</th>\n",
       "      <td>66.0</td>\n",
       "    </tr>\n",
       "    <tr>\n",
       "      <th>456</th>\n",
       "      <td>56.0</td>\n",
       "    </tr>\n",
       "    <tr>\n",
       "      <th>457</th>\n",
       "      <td>61.0</td>\n",
       "    </tr>\n",
       "    <tr>\n",
       "      <th>458</th>\n",
       "      <td>55.0</td>\n",
       "    </tr>\n",
       "    <tr>\n",
       "      <th>...</th>\n",
       "      <td>...</td>\n",
       "    </tr>\n",
       "    <tr>\n",
       "      <th>563</th>\n",
       "      <td>64.0</td>\n",
       "    </tr>\n",
       "    <tr>\n",
       "      <th>564</th>\n",
       "      <td>64.0</td>\n",
       "    </tr>\n",
       "    <tr>\n",
       "      <th>565</th>\n",
       "      <td>60.0</td>\n",
       "    </tr>\n",
       "    <tr>\n",
       "      <th>566</th>\n",
       "      <td>64.0</td>\n",
       "    </tr>\n",
       "    <tr>\n",
       "      <th>567</th>\n",
       "      <td>66.0</td>\n",
       "    </tr>\n",
       "  </tbody>\n",
       "</table>\n",
       "<p>114 rows × 1 columns</p>\n",
       "</div>"
      ],
      "text/plain": [
       "      pop\n",
       "Id       \n",
       "454  67.0\n",
       "455  66.0\n",
       "456  56.0\n",
       "457  61.0\n",
       "458  55.0\n",
       "..    ...\n",
       "563  64.0\n",
       "564  64.0\n",
       "565  60.0\n",
       "566  64.0\n",
       "567  66.0\n",
       "\n",
       "[114 rows x 1 columns]"
      ]
     },
     "execution_count": 51,
     "metadata": {},
     "output_type": "execute_result"
    }
   ],
   "source": [
    "# setting ID as index\n",
    "submission_data.set_index('Id')"
   ]
  },
  {
   "cell_type": "code",
   "execution_count": 52,
   "id": "d7cf44d6",
   "metadata": {},
   "outputs": [],
   "source": [
    "# Exporting the submission test data to a csv file to upload our results and score our methodology\n",
    "submission_data.to_csv('reg_submission.csv', columns = ['Id', 'pop'], index = False)"
   ]
  },
  {
   "cell_type": "markdown",
   "id": "eaff5925",
   "metadata": {},
   "source": [
    "### 7. Conclusion "
   ]
  },
  {
   "cell_type": "markdown",
   "id": "71aadcf1",
   "metadata": {},
   "source": [
    "After exporting the submission data file on our kaggle competition we get a score of 8.25, which is closer to our score of 9.18 on our training data. It seems like our model is doing better in predicting the popularity in testing data taken from kaggle. It signifies that the model we have made is not overfitting on our training data. A common reason for it could be the number of observation in training data was less with very high number of classes. Thus our model seems to work well in comparision but yet in our personal opinion the methodologies used in making of the model and preparing the data for machine learning were only the best up to our particular knowledge and not the best possible solutions. In future, with no boundation of time we would to learn from our experieance and hope that better solutions could be developed with better practices involved."
   ]
  }
 ],
 "metadata": {
  "kernelspec": {
   "display_name": "Python 3 (ipykernel)",
   "language": "python",
   "name": "python3"
  },
  "language_info": {
   "codemirror_mode": {
    "name": "ipython",
    "version": 3
   },
   "file_extension": ".py",
   "mimetype": "text/x-python",
   "name": "python",
   "nbconvert_exporter": "python",
   "pygments_lexer": "ipython3",
   "version": "3.9.13"
  }
 },
 "nbformat": 4,
 "nbformat_minor": 5
}
